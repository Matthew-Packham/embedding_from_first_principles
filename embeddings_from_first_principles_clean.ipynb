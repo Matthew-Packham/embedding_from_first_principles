{
 "cells": [
  {
   "cell_type": "code",
   "execution_count": 1,
   "metadata": {},
   "outputs": [],
   "source": [
    "import torch\n",
    "import torch.nn.functional as F\n",
    "import random\n",
    "import matplotlib.pyplot as plt"
   ]
  },
  {
   "cell_type": "code",
   "execution_count": 2,
   "metadata": {},
   "outputs": [
    {
     "data": {
      "text/plain": [
       "['emma', 'olivia', 'ava', 'isabella', 'sophia', 'charlotte', 'mia', 'amelia']"
      ]
     },
     "execution_count": 2,
     "metadata": {},
     "output_type": "execute_result"
    }
   ],
   "source": [
    "names = open(\"names.txt\", \"r\").read().splitlines()\n",
    "names[:8]"
   ]
  },
  {
   "cell_type": "code",
   "execution_count": 3,
   "metadata": {},
   "outputs": [],
   "source": [
    "### Build the vocab ###\n",
    "\n",
    "#find all characters in our dataset\n",
    "vocab = sorted(list(set(''.join(names))))\n",
    "vocab.insert(0, \".\")\n",
    "\n",
    "#create vocab mappings\n",
    "char_to_idx = {char: idx for idx, char in enumerate(vocab)}\n",
    "idx_to_char = {idx: char for idx, char in enumerate(vocab)}"
   ]
  },
  {
   "cell_type": "code",
   "execution_count": 4,
   "metadata": {},
   "outputs": [
    {
     "name": "stdout",
     "output_type": "stream",
     "text": [
      "emma\n",
      "... ---> e | [0, 0, 0] ---> 5\n",
      "..e ---> m | [0, 0, 5] ---> 13\n",
      ".em ---> m | [0, 5, 13] ---> 13\n",
      "emm ---> a | [5, 13, 13] ---> 1\n",
      "mma ---> . | [13, 13, 1] ---> 0\n",
      "\n",
      "olivia\n",
      "... ---> o | [0, 0, 0] ---> 15\n",
      "..o ---> l | [0, 0, 15] ---> 12\n",
      ".ol ---> i | [0, 15, 12] ---> 9\n",
      "oli ---> v | [15, 12, 9] ---> 22\n",
      "liv ---> i | [12, 9, 22] ---> 9\n",
      "ivi ---> a | [9, 22, 9] ---> 1\n",
      "via ---> . | [22, 9, 1] ---> 0\n",
      "\n",
      "ava\n",
      "... ---> a | [0, 0, 0] ---> 1\n",
      "..a ---> v | [0, 0, 1] ---> 22\n",
      ".av ---> a | [0, 1, 22] ---> 1\n",
      "ava ---> . | [1, 22, 1] ---> 0\n",
      "\n"
     ]
    }
   ],
   "source": [
    "context_len = 3\n",
    "X, Y = [], []\n",
    "\n",
    "counter_for_show = 0\n",
    "names_for_show = 3\n",
    "for name in names:\n",
    "    #initalise context with \".\" characters (index 0)\n",
    "    context = [0] * context_len\n",
    "    \n",
    "    if counter_for_show < names_for_show:\n",
    "        print(name)\n",
    "    \n",
    "    for char in name + \".\": # add end character to the name\n",
    "        y = char_to_idx[char]\n",
    "        X.append(context)\n",
    "        Y.append(y)\n",
    "        \n",
    "        if counter_for_show < names_for_show:\n",
    "            print(f'{\"\".join(idx_to_char[idx] for idx in context)} ---> {idx_to_char[y]} | {context} ---> {y}')\n",
    "\n",
    "        #shift the context (like a rolling window)\n",
    "        context = context[1:] + [y]\n",
    "    \n",
    "    if counter_for_show < names_for_show:\n",
    "        print(end='\\n')\n",
    "    counter_for_show += 1\n",
    "\n",
    "#store as tensors\n",
    "X = torch.tensor(X)\n",
    "Y = torch.tensor(Y)"
   ]
  },
  {
   "cell_type": "code",
   "execution_count": 5,
   "metadata": {},
   "outputs": [
    {
     "name": "stdout",
     "output_type": "stream",
     "text": [
      "torch.Size([228146, 3]) with dtype: torch.int64\n",
      "torch.Size([228146]) with dtype: torch.int64\n"
     ]
    }
   ],
   "source": [
    "print(f\"{X.shape} with dtype: {X.dtype}\")\n",
    "print(f\"{Y.shape} with dtype: {Y.dtype}\")"
   ]
  },
  {
   "cell_type": "markdown",
   "metadata": {},
   "source": [
    "Our Dataset consists of 228146 examples of context length 3. Each example represents the index into our vocab. Now lets split this into training, validation and test sets."
   ]
  },
  {
   "cell_type": "code",
   "execution_count": 6,
   "metadata": {},
   "outputs": [],
   "source": [
    "def create_dataset(names, context_len=3):\n",
    "    \"\"\"Function to create a dataset out of a list of names given to it\n",
    "\n",
    "    Args:\n",
    "        names (list)\n",
    "        context_len (int, optional):Defaults to 3.\n",
    "\n",
    "    Returns:\n",
    "        tuple: X, Y\n",
    "    \"\"\"\n",
    "\n",
    "    X, Y = [], []\n",
    "    for name in names:\n",
    "        #initalise context with \".\" characters (index 0)\n",
    "        context = [0] * context_len\n",
    "        \n",
    "        for char in name + \".\": # add end character to the name\n",
    "            y = char_to_idx[char]\n",
    "            X.append(context)\n",
    "            Y.append(y)\n",
    "        \n",
    "            #shift the context (like a rolling window)\n",
    "            context = context[1:] + [y]\n",
    "\n",
    "    #store as tensors\n",
    "    X = torch.tensor(X)\n",
    "    Y = torch.tensor(Y)\n",
    "\n",
    "    return X, Y"
   ]
  },
  {
   "cell_type": "code",
   "execution_count": 7,
   "metadata": {},
   "outputs": [],
   "source": [
    "## Split simply by indexing\n",
    "random.shuffle(names)\n",
    "train_split = int(0.8*len(names)) #80% for train\n",
    "val_split = int(0.9*len(names)) #10% for each of val and test\n",
    "\n",
    "X_train, Y_train = create_dataset(names[:train_split])\n",
    "X_val, Y_val = create_dataset(names[train_split:val_split])\n",
    "X_test, Y_test = create_dataset(names[val_split:])"
   ]
  },
  {
   "cell_type": "code",
   "execution_count": 8,
   "metadata": {},
   "outputs": [
    {
     "name": "stdout",
     "output_type": "stream",
     "text": [
      "torch.Size([182751, 3]) torch.Size([182751])\n",
      "torch.Size([22687, 3]) torch.Size([22687])\n",
      "torch.Size([22708, 3]) torch.Size([22708])\n"
     ]
    }
   ],
   "source": [
    "print(X_train.shape, Y_train.shape)\n",
    "print(X_val.shape, Y_val.shape)\n",
    "print(X_test.shape, Y_test.shape)"
   ]
  },
  {
   "cell_type": "markdown",
   "metadata": {},
   "source": [
    "### Network\n",
    "\n",
    "![](nn_arch.png)\n"
   ]
  },
  {
   "cell_type": "markdown",
   "metadata": {},
   "source": [
    "**Input**\n",
    "\n",
    "The network takes as input the indexes of the vocab corresponding to the context. In this case the context is of length three.\n",
    "\n",
    "\n",
    "**Embedding**\n",
    "\n",
    "Next is the embedding transformation. We take the indexes and embed them into a space (of dimension we can choose, say, 2dim). So each character in our vocab goes from an integer to a vector of len(emb_dim). The best way to think of this is as an embedding matrix, C, which has dimension (len(vocab), emb_dim) i.e. each row represents a character and we use the index of that character in our vocab to index into this matrix. (e.g. \".\" character is idx=0 in vocab, which has embeding=C[0] which is a vector of len(emb_dim)).\n",
    "\n",
    "So for 1 example with context length 3 we start with a vector of len(context_length)=3, which represent the indicies in our vocab. Each index then get transformed (i.e. embedded) to a vector of len(emb_dim), say emb_dim=10, and then get concatinated. So 3 indicies tranform to 3 vectors of len(emd_dim) and then aligned together. (vector of len=30 if emd_dim=10 and context=3)\n",
    "\n",
    "**Linear Layer**\n",
    "\n",
    "Just a standard Linear Layer, with say 100 neurons (we choose), that has a tanh activation.\n",
    "\n",
    "**Output Layer**\n",
    "\n",
    "The output layer is a Linear Layer, with len(vocab)=27 neurons, with softmax activation. This gives us a probility distribution over the vocab. So each of the 27 outputs represents the probability that the next character given the context is that character (soOutput[0] is the probability, given the context the next character is index 0 in our vocab which is \".\"). Note: that in training we utalise `.cross_entropy()` which internally calculates the softmax and compute the cross entropy of our ouput with the true index (given by Y)\n"
   ]
  },
  {
   "cell_type": "markdown",
   "metadata": {},
   "source": [
    "Notice they are the roughly the same. This suggested there is still room for imrpovement. But before that lets visualise the embedding matrix"
   ]
  },
  {
   "cell_type": "code",
   "execution_count": 17,
   "metadata": {},
   "outputs": [
    {
     "name": "stdout",
     "output_type": "stream",
     "text": [
      "Current Loss: 26.711\n",
      "Current Loss: 2.520\n",
      "Current Loss: 2.400\n",
      "Current Loss: 2.398\n",
      "Current Loss: 2.470\n",
      "Current Loss: 2.670\n",
      "Current Loss: 2.269\n",
      "Current Loss: 2.209\n",
      "Current Loss: 2.369\n",
      "Current Loss: 2.307\n"
     ]
    }
   ],
   "source": [
    "### Train network ###\n",
    "\n",
    "## dims + embedding dims ##\n",
    "vocab_len=27\n",
    "context_len=3\n",
    "emb_dim = 2\n",
    "\n",
    "ll_neurons = 250\n",
    "mini_batch_size=64\n",
    "\n",
    "iterations = 100_000\n",
    "\n",
    "\n",
    "## Lets reverse the order, so going from large steps to small steps:\n",
    "## Parameters ##\n",
    "C = torch.randn((vocab_len, emb_dim))\n",
    "w1 = torch.randn((context_len*emb_dim, ll_neurons)) \n",
    "b1 = torch.randn((ll_neurons)) \n",
    "w2 = torch.randn((ll_neurons, vocab_len)) \n",
    "b2 = torch.randn((vocab_len)) \n",
    "parameters = [C, w1, b1, w2, b2]\n",
    "\n",
    "for p in parameters:\n",
    "    p.requires_grad = True\n",
    "\n",
    " \n",
    "for i in range(iterations):\n",
    "\n",
    "   # construct batches by randomly selecting integers. use integers to index into training set\n",
    "    ix = torch.randint(0, X_train.shape[0], (mini_batch_size,))\n",
    "\n",
    "    ## FORWARD PASS ##\n",
    "    emb = C[X_train[ix]] # (mini_batch_size, context_len, emb_dim) \n",
    "    h1 = torch.tanh(emb.view(-1, context_len*emb_dim) @ w1 + b1) #(mini_batch_size, context_len_x_emb_dim)x(context_len_x_emb_dim, ll_neurons) gives (mini_batch_size, ll_neurons)\n",
    "    logits = h1 @ w2 + b2 #(mini_batch_size, vocab_len) we want to produce p(next_char over dist given the seq) hence vocab_len\n",
    "    loss = F.cross_entropy(logits, Y_train[ix]) #softmax is applied internally\n",
    "\n",
    "    ## BACKWARDS PASS ##\n",
    "    for p in parameters:\n",
    "        p.grad = None\n",
    "    loss.backward()\n",
    "\n",
    "    ## UPDATE ##\n",
    "    if i <= 50_000:\n",
    "        lr=0.1\n",
    "    elif ((i>50_000) & (i<80_000)):\n",
    "        lr=0.01\n",
    "    else:\n",
    "        lr=0.001\n",
    "    \n",
    "    for p in parameters:\n",
    "        p.data += -lr * p.grad\n",
    "    \n",
    "    \n",
    "    if i % 10_000 == 0:\n",
    "        print(f\"Current Loss: {loss.item():.3f}\")"
   ]
  },
  {
   "cell_type": "code",
   "execution_count": 18,
   "metadata": {},
   "outputs": [
    {
     "data": {
      "image/png": "[encoded data removed]",
      "text/plain": [
       "<Figure size 600x600 with 1 Axes>"
      ]
     },
     "metadata": {},
     "output_type": "display_data"
    }
   ],
   "source": [
    "### Visualise the Embeddings of our characters ###\n",
    "\n",
    "plt.figure(figsize=(6,6))\n",
    "#plot the dims of the embedding matrix\n",
    "plt.scatter(C[:, 0].data, C[:, 1].data, s=100)\n",
    "\n",
    "#iterate through and on the dot place the letter\n",
    "for i in range(C.shape[0]):\n",
    "    plt.text(C[i, 0].item(), C[i, 1].item(), s=idx_to_char[i], ha=\"center\", va=\"center\", color=\"white\")"
   ]
  },
  {
   "cell_type": "markdown",
   "metadata": {},
   "source": [
    "Intrestingly, the vowels are clustered together! The model assigns similarlity to these, meaning theyre interchangeable in a sense!\n",
    "There are the main cluster of letters in the center. \n",
    "there are q and . that are far away  aswell as b and f from the main cluster indicating that these are exceptional characters. Fasinating!!"
   ]
  },
  {
   "cell_type": "markdown",
   "metadata": {},
   "source": [
    "Now lets play around with the hyper paramters to try and get a best model. Here we are doing this in a trail and error, unstructured way, but we'll learn about best practices soon. Lets just play for now!\n",
    "\n",
    "Hyperparameters:\n",
    "* Number of neurons in the linear layer\n",
    "* batch_size\n",
    "* number of dimensions in our embeddings\n",
    "* learning rate\n",
    "* context length"
   ]
  },
  {
   "cell_type": "code",
   "execution_count": null,
   "metadata": {},
   "outputs": [
    {
     "name": "stdout",
     "output_type": "stream",
     "text": [
      "Current Loss: 32.432\n",
      "Current Loss: 2.776\n",
      "Current Loss: 2.294\n",
      "Current Loss: 2.645\n",
      "Current Loss: 2.226\n",
      "Current Loss: 2.204\n",
      "Current Loss: 2.098\n",
      "Current Loss: 2.360\n",
      "Current Loss: 2.197\n",
      "Current Loss: 2.059\n"
     ]
    }
   ],
   "source": [
    "### Train network ###\n",
    "\n",
    "ll_neurons = 250\n",
    "mini_batch_size=64\n",
    "emb_dim = 10\n",
    "iterations = 100_000\n",
    "\n",
    "\n",
    "## Lets reverse the order, so going from large steps to small steps:\n",
    "## Parameters ##\n",
    "C = torch.randn((27, emb_dim))\n",
    "w1 = torch.randn((3*emb_dim, ll_neurons)) \n",
    "b1 = torch.randn((ll_neurons)) \n",
    "w2 = torch.randn((ll_neurons, 27)) \n",
    "b2 = torch.randn((27)) \n",
    "parameters = [C, w1, b1, w2, b2]\n",
    "\n",
    "for p in parameters:\n",
    "    p.requires_grad = True\n",
    "\n",
    " \n",
    "for i in range(iterations):\n",
    "\n",
    "   \n",
    "    ix = torch.randint(0, X_train.shape[0], (mini_batch_size,))\n",
    "\n",
    "    ## FORWARD PASS ##\n",
    "    emb = C[X_train[ix]] # (mini_batch_size, 3, emb_dim) <-- 3 is the context length\n",
    "    h1 = torch.tanh(emb.view(-1, 3*emb_dim) @ w1 + b1) #(mini_batch_size, context_len_x_emb_dim)x(context_len_x_emb_dim, ll_neurons) gives (mini_batch_size, ll_neurons)\n",
    "    logits = h1 @ w2 + b2 #(mini_batch_size, 27) <-- 27 is length of our vocab (we want to produce p(next_char over dist given the seq))\n",
    "    loss = F.cross_entropy(logits, Y_train[ix]) #softmax is applied internally\n",
    "\n",
    "    ## BACKWARDS PASS ##\n",
    "    for p in parameters:\n",
    "        p.grad = None\n",
    "    loss.backward()\n",
    "\n",
    "    ## UPDATE ##\n",
    "    if i <= 50_000:\n",
    "        lr=0.1\n",
    "    elif ((i>50_000) & (i<80_000)):\n",
    "        lr=0.01\n",
    "    else:\n",
    "        lr=0.001\n",
    "    \n",
    "    for p in parameters:\n",
    "        p.data += -lr * p.grad\n",
    "    if i % 10_000 == 0:\n",
    "        print(f\"Current Loss: {loss.item():.3f}\")"
   ]
  },
  {
   "cell_type": "code",
   "execution_count": null,
   "metadata": {},
   "outputs": [
    {
     "name": "stdout",
     "output_type": "stream",
     "text": [
      "training loss: 2.141\n"
     ]
    }
   ],
   "source": [
    "## Run Forward pss on training set to get training loss\n",
    "\n",
    "emb = C[X_train]\n",
    "h1 = torch.tanh(emb.view(-1, 3*emb_dim) @ w1 + b1) #<-- context_len=3\n",
    "logits = h1 @ w2 + b2 \n",
    "loss = F.cross_entropy(logits, Y_train)\n",
    "print(f\"training loss: {loss.item():.3f}\")"
   ]
  },
  {
   "cell_type": "code",
   "execution_count": null,
   "metadata": {},
   "outputs": [
    {
     "name": "stdout",
     "output_type": "stream",
     "text": [
      "Validation loss: 2.181\n"
     ]
    }
   ],
   "source": [
    "## Run forward pass on validation data to get validation loss\n",
    "emb = C[X_val]\n",
    "h1 = torch.tanh(emb.view(-1, 3*emb_dim) @ w1 + b1)\n",
    "logits = h1 @ w2 + b2 \n",
    "loss = F.cross_entropy(logits, Y_val)\n",
    "print(f\"Validation loss: {loss.item():.3f}\")"
   ]
  },
  {
   "cell_type": "markdown",
   "metadata": {},
   "source": [
    "### Sampling from the model\n",
    "\n",
    "The model is trained. it has adjusted its weights to best minimise the loss. Now it is time to generate new samples. Think lets pass one data point through the forward pass. Starting with context=\"...\" until we draw a \".\" to represent the end of our name"
   ]
  },
  {
   "cell_type": "code",
   "execution_count": null,
   "metadata": {},
   "outputs": [
    {
     "name": "stdout",
     "output_type": "stream",
     "text": [
      "jacklin.\n",
      "sina.\n",
      "alicaily.\n",
      "barisemasa.\n",
      "azcetain.\n",
      "sathleey.\n",
      "lidiah.\n",
      "ect.\n",
      "max.\n",
      "hia.\n"
     ]
    }
   ],
   "source": [
    "generated_chars = []\n",
    "NUMBER_OF_NAMES = 10\n",
    "\n",
    "for _ in range(NUMBER_OF_NAMES):\n",
    "    #start with ...\n",
    "    context = [0] * 3\n",
    "    \n",
    "    while True:\n",
    "        #send it through the forward pass\n",
    "        emb = C[context] #(1_example, context_len, emb_dim) = (1, 3, 10)\n",
    "        h1 = torch.tanh(emb.view(-1, 3*emb_dim) @ w1 + b1) #(1, ll_neuron)\n",
    "        logits = h1 @ w2 + b2 #(1, 27) <-- 27 is length of our vocab \n",
    "\n",
    "        #now we create the prob dist (note: this was previously done internallu in cross_entorpy - but we dont want t he loss calculation, we want the prob dist)\n",
    "        prob_dist = F.softmax(logits, dim=1) #logits is a row vector, so calculate over the row (i.e. across dim 1 which the columns across the columns gives over the row)\n",
    "\n",
    "        #now we sample from the dist (a multinomal will do that for us)\n",
    "        idx = torch.multinomial(prob_dist, 1).item()\n",
    "        generated_chars.append(idx_to_char[idx])\n",
    "\n",
    "        if idx == 0:\n",
    "            break\n",
    "\n",
    "        context = context[1:] + [idx]\n",
    "\n",
    "    print(\"\".join(generated_chars))\n",
    "    generated_chars=[]"
   ]
  }
 ],
 "metadata": {
  "kernelspec": {
   "display_name": "emb-venv",
   "language": "python",
   "name": "python3"
  },
  "language_info": {
   "codemirror_mode": {
    "name": "ipython",
    "version": 3
   },
   "file_extension": ".py",
   "mimetype": "text/x-python",
   "name": "python",
   "nbconvert_exporter": "python",
   "pygments_lexer": "ipython3",
   "version": "3.12.6"
  }
 },
 "nbformat": 4,
 "nbformat_minor": 2
}
