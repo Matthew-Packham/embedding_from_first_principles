{
 "cells": [
  {
   "cell_type": "code",
   "execution_count": 1,
   "metadata": {},
   "outputs": [],
   "source": [
    "import torch\n",
    "import torch.nn.functional as F"
   ]
  },
  {
   "cell_type": "markdown",
   "metadata": {},
   "source": [
    "### Adding Context\n",
    "\n",
    "Previously in bigrams we considered the probability of a character given the previous character (hence the bi in bigram). Now we'd like to add more context, Lets consider the probabilty of the next character given three previous characters."
   ]
  },
  {
   "cell_type": "code",
   "execution_count": 2,
   "metadata": {},
   "outputs": [
    {
     "data": {
      "text/plain": [
       "['emma', 'olivia', 'ava', 'isabella', 'sophia', 'charlotte', 'mia', 'amelia']"
      ]
     },
     "execution_count": 2,
     "metadata": {},
     "output_type": "execute_result"
    }
   ],
   "source": [
    "names = open(\"names.txt\", \"r\").read().splitlines()\n",
    "names[:8]"
   ]
  },
  {
   "cell_type": "code",
   "execution_count": 3,
   "metadata": {},
   "outputs": [
    {
     "data": {
      "text/plain": [
       "32033"
      ]
     },
     "execution_count": 3,
     "metadata": {},
     "output_type": "execute_result"
    }
   ],
   "source": [
    "len(names)"
   ]
  },
  {
   "cell_type": "code",
   "execution_count": 4,
   "metadata": {},
   "outputs": [],
   "source": [
    "### Build the vocab ###\n",
    "\n",
    "#find all characters in our dataset\n",
    "vocab = sorted(list(set(''.join(names))))\n",
    "vocab.insert(0, \".\")\n",
    "\n",
    "#create vocab mappings\n",
    "char_to_idx = {char: idx for idx, char in enumerate(vocab)}\n",
    "idx_to_char = {idx: char for idx, char in enumerate(vocab)}"
   ]
  },
  {
   "cell_type": "code",
   "execution_count": 5,
   "metadata": {},
   "outputs": [
    {
     "name": "stdout",
     "output_type": "stream",
     "text": [
      "emma\n",
      "... ---> e | [0, 0, 0] ---> 5\n",
      "..e ---> m | [0, 0, 5] ---> 13\n",
      ".em ---> m | [0, 5, 13] ---> 13\n",
      "emm ---> a | [5, 13, 13] ---> 1\n",
      "mma ---> . | [13, 13, 1] ---> 0\n",
      "\n",
      "olivia\n",
      "... ---> o | [0, 0, 0] ---> 15\n",
      "..o ---> l | [0, 0, 15] ---> 12\n",
      ".ol ---> i | [0, 15, 12] ---> 9\n",
      "oli ---> v | [15, 12, 9] ---> 22\n",
      "liv ---> i | [12, 9, 22] ---> 9\n",
      "ivi ---> a | [9, 22, 9] ---> 1\n",
      "via ---> . | [22, 9, 1] ---> 0\n",
      "\n",
      "ava\n",
      "... ---> a | [0, 0, 0] ---> 1\n",
      "..a ---> v | [0, 0, 1] ---> 22\n",
      ".av ---> a | [0, 1, 22] ---> 1\n",
      "ava ---> . | [1, 22, 1] ---> 0\n",
      "\n",
      "isabella\n",
      "... ---> i | [0, 0, 0] ---> 9\n",
      "..i ---> s | [0, 0, 9] ---> 19\n",
      ".is ---> a | [0, 9, 19] ---> 1\n",
      "isa ---> b | [9, 19, 1] ---> 2\n",
      "sab ---> e | [19, 1, 2] ---> 5\n",
      "abe ---> l | [1, 2, 5] ---> 12\n",
      "bel ---> l | [2, 5, 12] ---> 12\n",
      "ell ---> a | [5, 12, 12] ---> 1\n",
      "lla ---> . | [12, 12, 1] ---> 0\n",
      "\n",
      "sophia\n",
      "... ---> s | [0, 0, 0] ---> 19\n",
      "..s ---> o | [0, 0, 19] ---> 15\n",
      ".so ---> p | [0, 19, 15] ---> 16\n",
      "sop ---> h | [19, 15, 16] ---> 8\n",
      "oph ---> i | [15, 16, 8] ---> 9\n",
      "phi ---> a | [16, 8, 9] ---> 1\n",
      "hia ---> . | [8, 9, 1] ---> 0\n",
      "\n"
     ]
    }
   ],
   "source": [
    "context_len = 3\n",
    "X, Y = [], []\n",
    "\n",
    "for name in names[:5]:\n",
    "    #initalise context with \".\" characters (index 0)\n",
    "    context = [0] * context_len\n",
    "    \n",
    "    print(name)\n",
    "    for char in name + \".\": # add end character to the name\n",
    "        y = char_to_idx[char]\n",
    "        X.append(context)\n",
    "        Y.append(y)\n",
    "        print(f'{\"\".join(idx_to_char[idx] for idx in context)} ---> {idx_to_char[y]} | {context} ---> {y}')\n",
    "\n",
    "        #shift the context (like a rolling window)\n",
    "        context = context[1:] + [y]\n",
    "    \n",
    "    print(end='\\n')\n",
    "\n",
    "#store as tensors\n",
    "X = torch.tensor(X)\n",
    "Y = torch.tensor(Y)"
   ]
  },
  {
   "cell_type": "code",
   "execution_count": 6,
   "metadata": {},
   "outputs": [
    {
     "name": "stdout",
     "output_type": "stream",
     "text": [
      "torch.Size([32, 3]) with dtype: torch.int64\n",
      "torch.Size([32]) with dtype: torch.int64\n"
     ]
    }
   ],
   "source": [
    "print(f\"{X.shape} with dtype: {X.dtype}\")\n",
    "print(f\"{Y.shape} with dtype: {Y.dtype}\")"
   ]
  },
  {
   "cell_type": "code",
   "execution_count": 7,
   "metadata": {},
   "outputs": [],
   "source": [
    "# create our embedding \"table\". embedding dimension is 2. we embed each character into a two dimensional space\n",
    "C = torch.randn((27, 2))"
   ]
  },
  {
   "cell_type": "markdown",
   "metadata": {},
   "source": [
    "SIDE NOTE: we can think of this \"lookup\" in the embedding table in two ways.LookupError\n",
    " 1. using the indexes of the char in the vocab directly (index into the embedding table)\n",
    " 2. encode the indexes into one-hot encoding (thus multiply the embedding table by the encoded indexes ) "
   ]
  },
  {
   "cell_type": "code",
   "execution_count": 8,
   "metadata": {},
   "outputs": [
    {
     "name": "stdout",
     "output_type": "stream",
     "text": [
      "First way: \n",
      "X[0] = tensor([0, 0, 0]) gives y[0] = 5. Indexing into C[[0, 0, 0]] = \n",
      "tensor([[-0.0719,  1.2916],\n",
      "        [-0.0719,  1.2916],\n",
      "        [-0.0719,  1.2916]])\n"
     ]
    }
   ],
   "source": [
    "# 1st row is: ... ---> e | [0, 0, 0] ---> 5\n",
    "\n",
    "print(f\"First way: \\nX[0] = {X[0]} gives y[0] = {Y[0]}. Indexing into C[[0, 0, 0]] = \\n{C[X[0]]}\")"
   ]
  },
  {
   "cell_type": "code",
   "execution_count": 9,
   "metadata": {},
   "outputs": [
    {
     "data": {
      "text/plain": [
       "tensor([[-0.0719,  1.2916],\n",
       "        [-0.0719,  1.2916],\n",
       "        [-0.0719,  1.2916]])"
      ]
     },
     "execution_count": 9,
     "metadata": {},
     "output_type": "execute_result"
    }
   ],
   "source": [
    "# second way\n",
    "F.one_hot(X[0], num_classes=27).float() @ C"
   ]
  },
  {
   "cell_type": "code",
   "execution_count": 10,
   "metadata": {},
   "outputs": [
    {
     "data": {
      "text/plain": [
       "torch.Size([3, 2])"
      ]
     },
     "execution_count": 10,
     "metadata": {},
     "output_type": "execute_result"
    }
   ],
   "source": [
    "C[X[0]].shape\n",
    "# 3 context chars x 2 embedding dims"
   ]
  },
  {
   "cell_type": "code",
   "execution_count": 11,
   "metadata": {},
   "outputs": [
    {
     "data": {
      "text/plain": [
       "tensor([-0.0719,  1.2916, -0.0719,  1.2916, -0.0719,  1.2916])"
      ]
     },
     "execution_count": 11,
     "metadata": {},
     "output_type": "execute_result"
    }
   ],
   "source": [
    "C[X[0]].view((6,)) # reshape/view this tensor as a (6,) to feed as input into the 1st hidden layer"
   ]
  },
  {
   "cell_type": "code",
   "execution_count": 12,
   "metadata": {},
   "outputs": [
    {
     "data": {
      "text/plain": [
       "torch.Size([32, 6])"
      ]
     },
     "execution_count": 12,
     "metadata": {},
     "output_type": "execute_result"
    }
   ],
   "source": [
    "#-1 means pytorch will work out that dim based on the other dim (i.e. we want 6 columns, tell us how many rows we need)\n",
    "x1 = C[X].view(-1, 6) # C[X] (batch_shape, input_shape)=(32, 3, 2) where input_shape=(3, 2) [context_dim, emb_dim]\n",
    "\n",
    "x1.shape #x1 (batch_dim, 6) as we have asked pytorch to view it this way (Concatinate the context dim into one row)"
   ]
  },
  {
   "cell_type": "code",
   "execution_count": 13,
   "metadata": {},
   "outputs": [],
   "source": [
    "#hiddden layer with tanh activation\n",
    "w1 = torch.randn((6, 100)) #dim=(input_dim, num_of_neurons)\n",
    "b1 = torch.randn((100)) #dim=(num_of_neurons) each neuron has one bias\n",
    "h1 = torch.tanh(x1@w1 + b1) # CHECK BROADCASTING"
   ]
  },
  {
   "cell_type": "code",
   "execution_count": 14,
   "metadata": {},
   "outputs": [],
   "source": [
    "#BROADCASTING CHECK\n",
    "# x1@w1 = (32, 100) (batch_dim, input_shape)x(input_shape, num_of_neurons)=(batch_dim, num_of_neurons)\n",
    "#    b1 = (100) row vector of bias' one bias for each neuron!\n",
    "\n",
    "#Align to the right\n",
    "#         (32, 100)\n",
    "#         (  , 100)\n",
    "\n",
    "# broadcast b1. the right most matches GOOD. the left most will be matched to i.e. broadcasted to 32 dim\n",
    "# b1_bcast (32, 100) i.e. b1 row vector copied along the rows 32 times! EXACTLY WHAT WE WANT!\n"
   ]
  },
  {
   "cell_type": "code",
   "execution_count": 15,
   "metadata": {},
   "outputs": [
    {
     "data": {
      "text/plain": [
       "torch.Size([32, 100])"
      ]
     },
     "execution_count": 15,
     "metadata": {},
     "output_type": "execute_result"
    }
   ],
   "source": [
    "h1.shape # (batch_num, input_shape)x(input_shape, num_of_neurons) = (batch_shape, num_of_neurons)"
   ]
  },
  {
   "cell_type": "code",
   "execution_count": 16,
   "metadata": {},
   "outputs": [],
   "source": [
    "## Second and final hidden layer\n",
    "# GOAL: output a prob dist over our vocab where the highest prob will be the prediction for the next character (given our context window)\n",
    "\n",
    "w2 = torch.randn((100, 27)) #input:(batch_dim, input_shape)=(32, 100) we want output_dim (i.e. number of neurons) to be len(vocab)=27 \n",
    "b2 = torch.randn((27)) # each neuron has a bias\n",
    "\n",
    "logits = h1@w2 + b2 #Checked broadcasting earlier, b2 is a row vector, which we want copied for each example in our batch (down the batch dim i.e. the rows)"
   ]
  },
  {
   "cell_type": "code",
   "execution_count": 17,
   "metadata": {},
   "outputs": [
    {
     "data": {
      "text/plain": [
       "torch.Size([32, 27])"
      ]
     },
     "execution_count": 17,
     "metadata": {},
     "output_type": "execute_result"
    }
   ],
   "source": [
    "# softmax activation.\n",
    "# This converts the 27 dim row rector into a probability dist\n",
    "\n",
    "its = logits.exp()\n",
    "prob_dists = its / its.sum(1, keepdim=True) # sum over 1st dimension (len(vocab)) keepdim means we want column vector (each chara to be divided by the sum - copy across the 27 columns!)\n",
    "prob_dists.shape # (batch_dim, len(vocab))"
   ]
  },
  {
   "cell_type": "code",
   "execution_count": 18,
   "metadata": {},
   "outputs": [
    {
     "data": {
      "text/plain": [
       "tensor([2.1719e-02, 8.5987e-10, 2.8688e-07, 1.0117e-08, 7.0515e-06, 9.5067e-12,\n",
       "        1.6529e-04, 2.2495e-10, 2.1192e-12, 5.4288e-12, 2.4975e-02, 6.8472e-01,\n",
       "        3.0829e-06, 1.3437e-07, 2.4738e-09, 1.8249e-07, 2.1146e-09, 5.1132e-05,\n",
       "        9.6815e-10, 1.0182e-03, 2.9467e-12, 4.3447e-11, 1.1929e-06, 2.7705e-07,\n",
       "        3.5158e-02, 1.2558e-11, 5.2283e-12, 8.7406e-11, 1.2526e-08, 5.4334e-09,\n",
       "        1.3700e-07, 1.1685e-02])"
      ]
     },
     "execution_count": 18,
     "metadata": {},
     "output_type": "execute_result"
    }
   ],
   "source": [
    "# We end up with a prob dist over the vocab for each of our 32 examples\n",
    "# we can pick out the probabilty of the targets Y\n",
    "\n",
    "# recall Y is the index in our vocab for the next character, so our model should be assigning high prob to that index\n",
    "# i.e.  ... ---> e | [0, 0, 0] ---> 5 so the 5th index for the first example should have a high prob (after training)\n",
    "\n",
    "prob_of_targets = prob_dists[torch.arange(0, 32), Y] # Y represents the columns we wanyt to pick out, the index in the vocab. we have 32 examples.\n",
    "prob_of_targets"
   ]
  },
  {
   "cell_type": "markdown",
   "metadata": {},
   "source": [
    "so prob of picking 5th index in our vocab is 7.6933e-09. the higher these probabilties the better the model"
   ]
  },
  {
   "cell_type": "code",
   "execution_count": 19,
   "metadata": {},
   "outputs": [
    {
     "data": {
      "text/plain": [
       "tensor(16.2122)"
      ]
     },
     "execution_count": 19,
     "metadata": {},
     "output_type": "execute_result"
    }
   ],
   "source": [
    "## measure the loss (ve- average log likelihood)\n",
    "\n",
    "loss = -prob_of_targets.log().mean() \n",
    "loss"
   ]
  },
  {
   "cell_type": "markdown",
   "metadata": {},
   "source": [
    "Note: We use the mean log likelihood rather than the sum of the log likelihoods to ensure that batch size (N) is independent from the learning rate. In the mean we divide through by N, removing the infulence of batch size. If we took the sum, then the loss is influenced by the batch_size, which during gradient decent, where we mutliply through by a learning rate, will require different learning rates for different batch_sizes. (unless you data set splits perfectly into an equal number of batches - will cause a problem). Thus the mean is the way!  "
   ]
  },
  {
   "cell_type": "code",
   "execution_count": 20,
   "metadata": {},
   "outputs": [],
   "source": [
    "## Bring it all together\n",
    "\n",
    "## Parameters ##\n",
    "C = torch.randn((27, 2))\n",
    "\n",
    "w1 = torch.randn((6, 100)) \n",
    "b1 = torch.randn((100)) \n",
    "\n",
    "w2 = torch.randn((100, 27)) \n",
    "b2 = torch.randn((27)) \n",
    "\n",
    "parameters = [C, w1, b1, w2, b2]"
   ]
  },
  {
   "cell_type": "code",
   "execution_count": 21,
   "metadata": {},
   "outputs": [
    {
     "name": "stdout",
     "output_type": "stream",
     "text": [
      "We have 3481 elements\n"
     ]
    }
   ],
   "source": [
    "print(f\"We have {sum(p.nelement() for p in parameters)} elements\")"
   ]
  },
  {
   "cell_type": "code",
   "execution_count": 22,
   "metadata": {},
   "outputs": [],
   "source": [
    "## to run the backwards pass we need to set requires_grad().\n",
    "for p in parameters:\n",
    "    p.requires_grad = True"
   ]
  },
  {
   "cell_type": "code",
   "execution_count": 23,
   "metadata": {},
   "outputs": [
    {
     "data": {
      "text/plain": [
       "tensor(19.7916, grad_fn=<NllLossBackward0>)"
      ]
     },
     "execution_count": 23,
     "metadata": {},
     "output_type": "execute_result"
    }
   ],
   "source": [
    "## forward pass ##\n",
    "\n",
    "emb = C[X] # (32, 3, 2)\n",
    "#x1 =  #(32, 6)\n",
    "h1 = torch.tanh(emb.view(-1, 6) @ w1 + b1) #(32, 100)\n",
    "logits = h1 @ w2 + b2 #(32, 27)\n",
    "# its = logits.exp()\n",
    "# prob_dists = its / its.sum(1, keepdim=True)\n",
    "# prob_of_targets = prob_dists[torch.arange(0, 32), Y]\n",
    "# loss = -prob_of_targets.log().mean()\n",
    "loss = F.cross_entropy(logits, Y)\n",
    "loss"
   ]
  },
  {
   "cell_type": "code",
   "execution_count": 24,
   "metadata": {},
   "outputs": [
    {
     "data": {
      "text/plain": [
       "tensor(19.7916, grad_fn=<NllLossBackward0>)"
      ]
     },
     "execution_count": 24,
     "metadata": {},
     "output_type": "execute_result"
    }
   ],
   "source": [
    "F.cross_entropy(logits, Y)"
   ]
  },
  {
   "cell_type": "markdown",
   "metadata": {},
   "source": [
    "the cross entropy loss is the same as the negative log likelihood in the case where there is only one correct char.\n",
    "all other positions in the cross entopry loss will be zero. \n",
    "pytorch will regonise that you are sending in indexes (representing one correct char - rather than say three, and set y_trues all to zero, appart from the index)\n",
    "\n",
    "\n",
    "benifits of using cross entropy\n",
    "1. the intermedery steps are usually computed in a fused kernel and so are very effecient (no extra tensors are made, like in our imp)\n",
    "2. the backwards pass is more efficent since (through analytical mathematics we can derive the exact derivative) and so dont need to work the dervivate out for each of the intermediate steps - like we would if we did our implementation\n",
    "   (and example of this can be seen in tanh - we know the exact derivative (through analytical methods its (1-t**2))\n",
    "3. our previous method can not handle large logits (since exp(100) is inf - **This is called overflow**) to solve this, because of the normalisation, we can add/minus any arbitary number. take the number to be the max of the logits and minus. that way we get zero or negative numbers... problem solved (only possible due to normalisation)"
   ]
  },
  {
   "cell_type": "code",
   "execution_count": 25,
   "metadata": {},
   "outputs": [],
   "source": [
    "## backward pass ##\n",
    "for p in parameters:\n",
    "    p.grad = None\n",
    "loss.backward()"
   ]
  },
  {
   "cell_type": "code",
   "execution_count": 26,
   "metadata": {},
   "outputs": [],
   "source": [
    "## update the parameters ##\n",
    "for p in parameters:\n",
    "    p.data += -0.1 * p.grad"
   ]
  },
  {
   "cell_type": "code",
   "execution_count": 27,
   "metadata": {},
   "outputs": [
    {
     "data": {
      "text/plain": [
       "16.394893646240234"
      ]
     },
     "execution_count": 27,
     "metadata": {},
     "output_type": "execute_result"
    }
   ],
   "source": [
    "## run another forward pass having updated and see the loss decrease ##\n",
    "emb = C[X] # (32, 3, 2)\n",
    "#x1 =  #(32, 6)\n",
    "h1 = torch.tanh(emb.view(-1, 6) @ w1 + b1) #(32, 100)\n",
    "logits = h1 @ w2 + b2 #(32, 27)\n",
    "# its = logits.exp()\n",
    "# prob_dists = its / its.sum(1, keepdim=True)\n",
    "# prob_of_targets = prob_dists[torch.arange(0, 32), Y]\n",
    "# loss = -prob_of_targets.log().mean()\n",
    "loss = F.cross_entropy(logits, Y)\n",
    "loss.item()"
   ]
  },
  {
   "cell_type": "markdown",
   "metadata": {},
   "source": [
    "#### Bring it all together | 32 data Examples (from the 1st five words)"
   ]
  },
  {
   "cell_type": "code",
   "execution_count": 28,
   "metadata": {},
   "outputs": [],
   "source": [
    "for p in parameters:\n",
    "    p.requires_grad = True"
   ]
  },
  {
   "cell_type": "code",
   "execution_count": 29,
   "metadata": {},
   "outputs": [
    {
     "name": "stdout",
     "output_type": "stream",
     "text": [
      "Final Loss: 0.257\n"
     ]
    }
   ],
   "source": [
    "iterations = 1000\n",
    "for _ in range(iterations):\n",
    "    ## FORWARD PASS ##\n",
    "    emb = C[X] # (32, 3, 2)\n",
    "    h1 = torch.tanh(emb.view(-1, 6) @ w1 + b1) #(32, 6)x(6, 100) gives (32, 100)\n",
    "    logits = h1 @ w2 + b2 #(32, 27)\n",
    "    loss = F.cross_entropy(logits, Y) #softmax is applied internally\n",
    "    \n",
    "\n",
    "    ## BACKWARDS PASS ##\n",
    "    for p in parameters:\n",
    "        p.grad = None\n",
    "    loss.backward()\n",
    "\n",
    "    ## UPDATE ##\n",
    "    for p in parameters:\n",
    "        p.data += -0.1 * p.grad\n",
    "print(f\"Final Loss: {loss.item():.3f}\")"
   ]
  },
  {
   "cell_type": "markdown",
   "metadata": {},
   "source": [
    "Here we get a very low loss because we are overfitting. we have 32 examples but 3481 parameters. Notice though that we dont get exatly zero, well that because we have inputs that give multiple output values in our training set. so for exampl ... as an input gives e (for the first name emma), a (for the second name ava), and so on, we have multiple names that start with different letters."
   ]
  },
  {
   "cell_type": "markdown",
   "metadata": {},
   "source": [
    "#### Bring it all together | ALL data Examples"
   ]
  },
  {
   "cell_type": "code",
   "execution_count": 30,
   "metadata": {},
   "outputs": [],
   "source": [
    "context_len = 3\n",
    "X, Y = [], []\n",
    "\n",
    "for name in names:\n",
    "    #initalise context with \".\" characters (index 0)\n",
    "    context = [0] * context_len\n",
    "    \n",
    "    for char in name + \".\": # add end character to the name\n",
    "        y = char_to_idx[char]\n",
    "        X.append(context)\n",
    "        Y.append(y)\n",
    "\n",
    "        #shift the context (like a rolling window)\n",
    "        context = context[1:] + [y]\n",
    "\n",
    "#store as tensors\n",
    "X = torch.tensor(X)\n",
    "Y = torch.tensor(Y)"
   ]
  },
  {
   "cell_type": "code",
   "execution_count": 32,
   "metadata": {},
   "outputs": [
    {
     "name": "stdout",
     "output_type": "stream",
     "text": [
      "torch.Size([228146, 3]) with dtype: torch.int64\n",
      "torch.Size([228146]) with dtype: torch.int64\n"
     ]
    }
   ],
   "source": [
    "print(f\"{X.shape} with dtype: {X.dtype}\")\n",
    "print(f\"{Y.shape} with dtype: {Y.dtype}\")"
   ]
  },
  {
   "cell_type": "code",
   "execution_count": 33,
   "metadata": {},
   "outputs": [],
   "source": [
    "## Parameters ##\n",
    "C = torch.randn((27, 2))\n",
    "w1 = torch.randn((6, 100)) \n",
    "b1 = torch.randn((100)) \n",
    "w2 = torch.randn((100, 27)) \n",
    "b2 = torch.randn((27)) \n",
    "parameters = [C, w1, b1, w2, b2]\n",
    "\n",
    "for p in parameters:\n",
    "    p.requires_grad = True"
   ]
  },
  {
   "cell_type": "code",
   "execution_count": 34,
   "metadata": {},
   "outputs": [
    {
     "name": "stdout",
     "output_type": "stream",
     "text": [
      "Loss: 16.780\n",
      "Loss: 15.217\n",
      "Loss: 14.000\n",
      "Loss: 13.222\n",
      "Loss: 12.526\n",
      "Loss: 11.879\n",
      "Loss: 11.273\n",
      "Loss: 10.700\n",
      "Loss: 10.161\n",
      "Loss: 9.663\n",
      "Final Loss: 9.663\n"
     ]
    }
   ],
   "source": [
    "iterations = 10\n",
    "for _ in range(iterations):\n",
    "    ## FORWARD PASS ##\n",
    "    emb = C[X] # (228146, 3, 2)\n",
    "    h1 = torch.tanh(emb.view(-1, 6) @ w1 + b1) #(228146, 6)x(6, 100) gives (228146, 100)\n",
    "    logits = h1 @ w2 + b2 #(228146, 27)\n",
    "    loss = F.cross_entropy(logits, Y) #softmax is applied internally\n",
    "    print(f\"Loss: {loss.item():.3f}\")\n",
    "\n",
    "    ## BACKWARDS PASS ##\n",
    "    for p in parameters:\n",
    "        p.grad = None\n",
    "    loss.backward()\n",
    "\n",
    "    ## UPDATE ##\n",
    "    for p in parameters:\n",
    "        p.data += -0.1 * p.grad\n",
    "print(f\"Final Loss: {loss.item():.3f}\")"
   ]
  },
  {
   "cell_type": "markdown",
   "metadata": {},
   "source": [
    "Much Slower! because we are training over the whole dataset (228146 examples) in each iteration, which is too much work. Lets split into mini batches.\n",
    "\n",
    "It is better to move in the approximate gradient direction and take more steps than it is to get the exact gradient and take fewer steps!\n",
    "\n",
    "We approximate the true value of the gradient by calculating the gradient for our mini batch (its a batch not all of the data points hence why its an approximation!!)."
   ]
  },
  {
   "cell_type": "code",
   "execution_count": 35,
   "metadata": {},
   "outputs": [],
   "source": [
    "## Parameters ##\n",
    "C = torch.randn((27, 2))\n",
    "w1 = torch.randn((6, 100)) \n",
    "b1 = torch.randn((100)) \n",
    "w2 = torch.randn((100, 27)) \n",
    "b2 = torch.randn((27)) \n",
    "parameters = [C, w1, b1, w2, b2]\n",
    "\n",
    "for p in parameters:\n",
    "    p.requires_grad = True"
   ]
  },
  {
   "cell_type": "code",
   "execution_count": 36,
   "metadata": {},
   "outputs": [
    {
     "name": "stdout",
     "output_type": "stream",
     "text": [
      "Final Loss For that mini Batch final chosen mini-batch (the last one! [the hundreth one]) [ix]: 2.686\n"
     ]
    }
   ],
   "source": [
    "iterations = 1000\n",
    "mini_batch_size = 32\n",
    "\n",
    "for _ in range(iterations):\n",
    "\n",
    "    # construct mini batch (randomly select 32 examples with replacement)\n",
    "    # select 32 integers (which represent the indexes of our training set)\n",
    "    ix = torch.randint(0, X.shape[0], (mini_batch_size,))\n",
    "\n",
    "    ## FORWARD PASS ##\n",
    "    emb = C[X[ix]] # (32, 3, 2)\n",
    "    h1 = torch.tanh(emb.view(-1, 6) @ w1 + b1) #(32, 6)x(6, 100) gives (32, 100)\n",
    "    logits = h1 @ w2 + b2 #(32, 27)\n",
    "    loss = F.cross_entropy(logits, Y[ix]) #softmax is applied internally\n",
    "\n",
    "    ## BACKWARDS PASS ##\n",
    "    for p in parameters:\n",
    "        p.grad = None\n",
    "    loss.backward()\n",
    "\n",
    "    ## UPDATE ##\n",
    "    for p in parameters:\n",
    "        p.data += -0.1 * p.grad\n",
    "print(f\"Final Loss For that mini Batch final chosen mini-batch (the last one! [the hundreth one]) [ix]: {loss.item():.3f}\")"
   ]
  },
  {
   "cell_type": "code",
   "execution_count": 37,
   "metadata": {},
   "outputs": [
    {
     "name": "stdout",
     "output_type": "stream",
     "text": [
      "Model Loss (after iterating over mini batches) 2.675\n"
     ]
    }
   ],
   "source": [
    "# Run the forward pass on the whole data to get the full model loss\n",
    "\n",
    "## FORWARD PASS ##\n",
    "emb = C[X] # <-- evaluating all of X\n",
    "h1 = torch.tanh(emb.view(-1, 6) @ w1 + b1)\n",
    "logits = h1 @ w2 + b2\n",
    "loss = F.cross_entropy(logits, Y) #<-- All of Y\n",
    "print(f\"Model Loss (after iterating over mini batches) {loss.item():.3f}\")"
   ]
  },
  {
   "cell_type": "markdown",
   "metadata": {},
   "source": [
    "### A way to explore the learning rate in the Upgrade step"
   ]
  },
  {
   "cell_type": "code",
   "execution_count": 38,
   "metadata": {},
   "outputs": [
    {
     "name": "stdout",
     "output_type": "stream",
     "text": [
      "Final Loss For that mini Batch final chosen mini-batch (the last one! [the hundreth one]) [ix]: 8.492\n"
     ]
    }
   ],
   "source": [
    "## Parameters ##\n",
    "C = torch.randn((27, 2))\n",
    "w1 = torch.randn((6, 100)) \n",
    "b1 = torch.randn((100)) \n",
    "w2 = torch.randn((100, 27)) \n",
    "b2 = torch.randn((27)) \n",
    "parameters = [C, w1, b1, w2, b2]\n",
    "\n",
    "for p in parameters:\n",
    "    p.requires_grad = True\n",
    "\n",
    "iterations = 1000 \n",
    "mini_batch_size = 32\n",
    "\n",
    "## Construct Learning rates ##\n",
    "lr_linear =  torch.linspace(0.001, 1, iterations)\n",
    "lr_exp_trans = torch.linspace(-3, 0, iterations)\n",
    "lr_exp = 10**lr_exp_trans # -3 because 10**-3 = 0.001 and 0 because 10**0 = 1\n",
    "\n",
    "# keep track of the learning rates used; so we can plot\n",
    "lr_idx = []\n",
    "lr_loss = []\n",
    "\n",
    "\n",
    "for i in range(iterations):#reversed(range(iterations)):\n",
    "\n",
    "   \n",
    "    ix = torch.randint(0, X.shape[0], (mini_batch_size,))\n",
    "\n",
    "    ## FORWARD PASS ##\n",
    "    emb = C[X[ix]] # (32, 3, 2)\n",
    "    h1 = torch.tanh(emb.view(-1, 6) @ w1 + b1) #(32, 6)x(6, 100) gives (32, 100)\n",
    "    logits = h1 @ w2 + b2 #(32, 27)\n",
    "    loss = F.cross_entropy(logits, Y[ix]) #softmax is applied internally\n",
    "\n",
    "    ## BACKWARDS PASS ##\n",
    "    for p in parameters:\n",
    "        p.grad = None\n",
    "    loss.backward()\n",
    "\n",
    "    ## UPDATE ##\n",
    "    lr = lr_exp[i]\n",
    "    for p in parameters:\n",
    "        p.data += -lr * p.grad\n",
    "    \n",
    "    #track the learning rates and the loss\n",
    "    lr_idx.append(lr)\n",
    "    lr_loss.append(loss.item())\n",
    "print(f\"Final Loss For that mini Batch final chosen mini-batch (the last one! [the hundreth one]) [ix]: {loss.item():.3f}\")"
   ]
  },
  {
   "cell_type": "code",
   "execution_count": 39,
   "metadata": {},
   "outputs": [
    {
     "data": {
      "text/plain": [
       "Text(0.5, 1.0, 'Starts small and gets large | jumps are exponential (so loads for small values, few for large) | time dir -->')"
      ]
     },
     "execution_count": 39,
     "metadata": {},
     "output_type": "execute_result"
    },
    {
     "data": {
      "image/png": "[encoded data removed]",
      "text/plain": [
       "<Figure size 640x480 with 1 Axes>"
      ]
     },
     "metadata": {},
     "output_type": "display_data"
    }
   ],
   "source": [
    "import matplotlib.pyplot as plt\n",
    "\n",
    "plt.plot(lr_idx, lr_loss)\n",
    "plt.title(\"Starts small and gets large | jumps are exponential (so loads for small values, few for large) | time dir -->\")"
   ]
  },
  {
   "cell_type": "code",
   "execution_count": 40,
   "metadata": {},
   "outputs": [
    {
     "data": {
      "text/plain": [
       "Text(0.5, 1.0, 'here we label the x-axis with the linear space( i.e. equal appart)')"
      ]
     },
     "execution_count": 40,
     "metadata": {},
     "output_type": "execute_result"
    },
    {
     "data": {
      "image/png": "[encoded data removed]",
      "text/plain": [
       "<Figure size 640x480 with 1 Axes>"
      ]
     },
     "metadata": {},
     "output_type": "display_data"
    }
   ],
   "source": [
    "plt.plot(lr_exp_trans, lr_loss)\n",
    "plt.title(\"here we label the x-axis with the linear space( i.e. equal appart)\")"
   ]
  },
  {
   "cell_type": "code",
   "execution_count": 41,
   "metadata": {},
   "outputs": [
    {
     "name": "stdout",
     "output_type": "stream",
     "text": [
      "Final Loss For that mini Batch final chosen mini-batch (the last one! [the hundreth one]) [ix]: 2.604\n"
     ]
    }
   ],
   "source": [
    "## Lets reverse the order, so going from large steps to small steps:\n",
    "## Parameters ##\n",
    "C = torch.randn((27, 2))\n",
    "w1 = torch.randn((6, 100)) \n",
    "b1 = torch.randn((100)) \n",
    "w2 = torch.randn((100, 27)) \n",
    "b2 = torch.randn((27)) \n",
    "parameters = [C, w1, b1, w2, b2]\n",
    "\n",
    "for p in parameters:\n",
    "    p.requires_grad = True\n",
    "\n",
    "iterations = 1000 \n",
    "mini_batch_size = 32\n",
    "\n",
    "## Construct Learning rates ##\n",
    "lr_linear =  torch.linspace(0.001, 1, iterations)\n",
    "lr_exp_trans = torch.linspace(-3, 0, iterations)\n",
    "lr_exp = 10**lr_exp_trans # -3 because 10**-3 = 0.001 and 0 because 10**0 = 1\n",
    "\n",
    "# keep track of the learning rates used; so we can plot\n",
    "lr_idx = []\n",
    "lr_loss = []\n",
    "\n",
    "\n",
    "for i in reversed(range(iterations)):\n",
    "\n",
    "   \n",
    "    ix = torch.randint(0, X.shape[0], (mini_batch_size,))\n",
    "\n",
    "    ## FORWARD PASS ##\n",
    "    emb = C[X[ix]] # (32, 3, 2)\n",
    "    h1 = torch.tanh(emb.view(-1, 6) @ w1 + b1) #(32, 6)x(6, 100) gives (32, 100)\n",
    "    logits = h1 @ w2 + b2 #(32, 27)\n",
    "    loss = F.cross_entropy(logits, Y[ix]) #softmax is applied internally\n",
    "\n",
    "    ## BACKWARDS PASS ##\n",
    "    for p in parameters:\n",
    "        p.grad = None\n",
    "    loss.backward()\n",
    "\n",
    "    ## UPDATE ##\n",
    "    lr = lr_exp[i]\n",
    "    for p in parameters:\n",
    "        p.data += -lr * p.grad\n",
    "    \n",
    "    #track the learning rates and the loss\n",
    "    lr_idx.append(lr)\n",
    "    lr_loss.append(loss.item())\n",
    "print(f\"Final Loss For that mini Batch final chosen mini-batch (the last one! [the hundreth one]) [ix]: {loss.item():.3f}\")\n"
   ]
  },
  {
   "cell_type": "code",
   "execution_count": 42,
   "metadata": {},
   "outputs": [
    {
     "data": {
      "text/plain": [
       "Text(0.5, 1.0, 'Reversed so starts large and goes small <-- time dir')"
      ]
     },
     "execution_count": 42,
     "metadata": {},
     "output_type": "execute_result"
    },
    {
     "data": {
      "image/png": "[encoded data removed]",
      "text/plain": [
       "<Figure size 640x480 with 1 Axes>"
      ]
     },
     "metadata": {},
     "output_type": "display_data"
    }
   ],
   "source": [
    "plt.plot(lr_idx, lr_loss)\n",
    "plt.title(\"Reversed so starts large and goes small <-- time dir\")"
   ]
  },
  {
   "cell_type": "code",
   "execution_count": 43,
   "metadata": {},
   "outputs": [],
   "source": [
    "# RMSprop takes larger steps when the gradient is small and small steps when there has been a consitently large history of large gradients.\n",
    "# here we are doing it on an iteration basis. the first iterations we assign a large learning rate, which gets smaller as the interations go on."
   ]
  },
  {
   "cell_type": "markdown",
   "metadata": {},
   "source": [
    "### Splitting data | Training, Validation and test\n",
    "\n",
    "* The training is for training the model (optimising the parameters). \n",
    "* The Validation is used for optimising the hyper parameters of the model (number of neurons, rate of regularization, size of embedding, etc ...)\n",
    "* The test set is used to validate the performance of the model"
   ]
  },
  {
   "cell_type": "code",
   "execution_count": 44,
   "metadata": {},
   "outputs": [],
   "source": [
    "def create_dataset(names, context_len=3):\n",
    "    \"\"\"Function to create a dataset out of a list of names given to it\n",
    "\n",
    "    Args:\n",
    "        names (list)\n",
    "        context_len (int, optional):Defaults to 3.\n",
    "\n",
    "    Returns:\n",
    "        tuple: X, Y\n",
    "    \"\"\"\n",
    "\n",
    "    X, Y = [], []\n",
    "    for name in names:\n",
    "        #initalise context with \".\" characters (index 0)\n",
    "        context = [0] * context_len\n",
    "        \n",
    "        for char in name + \".\": # add end character to the name\n",
    "            y = char_to_idx[char]\n",
    "            X.append(context)\n",
    "            Y.append(y)\n",
    "        \n",
    "            #shift the context (like a rolling window)\n",
    "            context = context[1:] + [y]\n",
    "\n",
    "    #store as tensors\n",
    "    X = torch.tensor(X)\n",
    "    Y = torch.tensor(Y)\n",
    "\n",
    "    return X, Y"
   ]
  },
  {
   "cell_type": "code",
   "execution_count": 45,
   "metadata": {},
   "outputs": [],
   "source": [
    "## Split simply by indexing\n",
    "import random\n",
    "random.shuffle(names)\n",
    "train_split = int(0.8*len(names))\n",
    "val_split = int(0.9*len(names))\n",
    "X_train, Y_train = create_dataset(names[:train_split])\n",
    "X_val, Y_val = create_dataset(names[train_split:val_split])\n",
    "X_test, Y_test = create_dataset(names[val_split:])"
   ]
  },
  {
   "cell_type": "code",
   "execution_count": 46,
   "metadata": {},
   "outputs": [
    {
     "name": "stdout",
     "output_type": "stream",
     "text": [
      "torch.Size([182608, 3]) torch.Size([182608])\n",
      "torch.Size([22784, 3]) torch.Size([22784])\n",
      "torch.Size([22754, 3]) torch.Size([22754])\n"
     ]
    }
   ],
   "source": [
    "print(X_train.shape, Y_train.shape)\n",
    "print(X_val.shape, Y_val.shape)\n",
    "print(X_test.shape, Y_test.shape)"
   ]
  },
  {
   "cell_type": "markdown",
   "metadata": {},
   "source": [
    "We can now train over the training data set and see the evalutaion on the validaton, for different configurations for the network.\n",
    "We find that increaseing the Linear layer (with the tanh activation) doesnt improve the network that much and we believe this is because of the embedding dim being too small (currently two dim). before I increase the embedding dimension lets visualuse it to see if the network learns any cimalrities between characters"
   ]
  },
  {
   "cell_type": "code",
   "execution_count": 47,
   "metadata": {},
   "outputs": [
    {
     "name": "stdout",
     "output_type": "stream",
     "text": [
      "Current Loss: 13.943\n",
      "Current Loss: 2.438\n",
      "Current Loss: 2.681\n",
      "Current Loss: 2.723\n",
      "Current Loss: 2.132\n"
     ]
    }
   ],
   "source": [
    "### Train network ###\n",
    "\n",
    "\n",
    "## Lets reverse the order, so going from large steps to small steps:\n",
    "## Parameters ##\n",
    "C = torch.randn((27, 2))\n",
    "w1 = torch.randn((6, 100)) \n",
    "b1 = torch.randn((100)) \n",
    "w2 = torch.randn((100, 27)) \n",
    "b2 = torch.randn((27)) \n",
    "parameters = [C, w1, b1, w2, b2]\n",
    "\n",
    "for p in parameters:\n",
    "    p.requires_grad = True\n",
    "\n",
    "iterations = 50_000 \n",
    "mini_batch_size = 32\n",
    "\n",
    "\n",
    "for i in range(iterations):\n",
    "\n",
    "   \n",
    "    ix = torch.randint(0, X_train.shape[0], (mini_batch_size,))\n",
    "\n",
    "    ## FORWARD PASS ##\n",
    "    emb = C[X_train[ix]] # (32, 3, 2)\n",
    "    h1 = torch.tanh(emb.view(-1, 6) @ w1 + b1) #(32, 6)x(6, 100) gives (32, 100)\n",
    "    logits = h1 @ w2 + b2 #(32, 27)\n",
    "    loss = F.cross_entropy(logits, Y_train[ix]) #softmax is applied internally\n",
    "\n",
    "    ## BACKWARDS PASS ##\n",
    "    for p in parameters:\n",
    "        p.grad = None\n",
    "    loss.backward()\n",
    "\n",
    "    ## UPDATE ##\n",
    "    lr = 0.1 if i < 30_000 else 0.01 # At 30_000 iterations we shift the learing rate\n",
    "    for p in parameters:\n",
    "        p.data += -lr * p.grad\n",
    "    if i % 10_000 == 0:\n",
    "        print(f\"Current Loss: {loss.item():.3f}\")"
   ]
  },
  {
   "cell_type": "code",
   "execution_count": 48,
   "metadata": {},
   "outputs": [
    {
     "name": "stdout",
     "output_type": "stream",
     "text": [
      "training loss: 2.336\n"
     ]
    }
   ],
   "source": [
    "## Run Forward pss on training set to get training loss\n",
    "\n",
    "emb = C[X_train]\n",
    "h1 = torch.tanh(emb.view(-1, 6) @ w1 + b1)\n",
    "logits = h1 @ w2 + b2 \n",
    "loss = F.cross_entropy(logits, Y_train)\n",
    "print(f\"training loss: {loss.item():.3f}\")"
   ]
  },
  {
   "cell_type": "code",
   "execution_count": 49,
   "metadata": {},
   "outputs": [
    {
     "name": "stdout",
     "output_type": "stream",
     "text": [
      "Validation loss: 2.334\n"
     ]
    }
   ],
   "source": [
    "## Run forward pass on validation data to get validation loss\n",
    "emb = C[X_val]\n",
    "h1 = torch.tanh(emb.view(-1, 6) @ w1 + b1)\n",
    "logits = h1 @ w2 + b2 \n",
    "loss = F.cross_entropy(logits, Y_val)\n",
    "print(f\"Validation loss: {loss.item():.3f}\")"
   ]
  },
  {
   "cell_type": "markdown",
   "metadata": {},
   "source": [
    "Notice they are the roughly the same. This suggested there is still room for imrpovement. But before that lets visualise the embedding matrix"
   ]
  },
  {
   "cell_type": "code",
   "execution_count": 50,
   "metadata": {},
   "outputs": [
    {
     "data": {
      "image/png": "[encoded data removed]",
      "text/plain": [
       "<Figure size 600x600 with 1 Axes>"
      ]
     },
     "metadata": {},
     "output_type": "display_data"
    }
   ],
   "source": [
    "plt.figure(figsize=(6,6))\n",
    "#plot the dims of the embedding matrix\n",
    "plt.scatter(C[:, 0].data, C[:, 1].data, s=100)\n",
    "\n",
    "#iterate through and on the dot place the letter\n",
    "for i in range(C.shape[0]):\n",
    "    plt.text(C[i, 0].item(), C[i, 1].item(), s=idx_to_char[i], ha=\"center\", va=\"center\", color=\"white\")"
   ]
  },
  {
   "cell_type": "markdown",
   "metadata": {},
   "source": [
    "Intrestingly, the vowels are clustered together! The model assigns similarlity to these, meaning theyre interchangeable in a sense!\n",
    "There are the main cluster of letters in the center. \n",
    "there are q, ., y that are far away from the main cluster indicating that these are exceptional characters. Fasinating!!"
   ]
  },
  {
   "cell_type": "markdown",
   "metadata": {},
   "source": [
    "Now lets play around with the hyper paramters to try and get a best model. here we are doiung this in a trail and error, unstructured way, but we'll learn about best practices soon. Lets just play for now!\n",
    "\n",
    "Hyperparameters:\n",
    "* Number of neurons in the linear layer\n",
    "* batch_size\n",
    "* number of dimensions in our embeddings\n",
    "* learning rate\n",
    "* context length"
   ]
  },
  {
   "cell_type": "code",
   "execution_count": 51,
   "metadata": {},
   "outputs": [
    {
     "name": "stdout",
     "output_type": "stream",
     "text": [
      "Current Loss: 25.717\n",
      "Current Loss: 2.575\n",
      "Current Loss: 2.450\n",
      "Current Loss: 2.269\n",
      "Current Loss: 2.189\n",
      "Current Loss: 2.339\n",
      "Current Loss: 1.971\n",
      "Current Loss: 2.135\n",
      "Current Loss: 2.105\n",
      "Current Loss: 2.178\n"
     ]
    }
   ],
   "source": [
    "### Train network ###\n",
    "\n",
    "ll_neurons = 250\n",
    "mini_batch_size=64\n",
    "emb_dim = 10\n",
    "iterations = 100_000\n",
    "\n",
    "\n",
    "## Lets reverse the order, so going from large steps to small steps:\n",
    "## Parameters ##\n",
    "C = torch.randn((27, emb_dim))\n",
    "w1 = torch.randn((3*emb_dim, ll_neurons)) \n",
    "b1 = torch.randn((ll_neurons)) \n",
    "w2 = torch.randn((ll_neurons, 27)) \n",
    "b2 = torch.randn((27)) \n",
    "parameters = [C, w1, b1, w2, b2]\n",
    "\n",
    "for p in parameters:\n",
    "    p.requires_grad = True\n",
    "\n",
    " \n",
    "for i in range(iterations):\n",
    "\n",
    "   \n",
    "    ix = torch.randint(0, X_train.shape[0], (mini_batch_size,))\n",
    "\n",
    "    ## FORWARD PASS ##\n",
    "    emb = C[X_train[ix]] # (mini_batch_size, 3, emb_dim) <-- 3 is the context length\n",
    "    h1 = torch.tanh(emb.view(-1, 3*emb_dim) @ w1 + b1) #(mini_batch_size, context_len_x_emb_dim)x(context_len_x_emb_dim, ll_neurons) gives (mini_batch_size, ll_neurons)\n",
    "    logits = h1 @ w2 + b2 #(mini_batch_size, 27) <-- 27 is length of our vocab (we want to produce p(next_char over dist given the seq))\n",
    "    loss = F.cross_entropy(logits, Y_train[ix]) #softmax is applied internally\n",
    "\n",
    "    ## BACKWARDS PASS ##\n",
    "    for p in parameters:\n",
    "        p.grad = None\n",
    "    loss.backward()\n",
    "\n",
    "    ## UPDATE ##\n",
    "    if i <= 50_000:\n",
    "        lr=0.1\n",
    "    elif ((i>50_000) & (i<80_000)):\n",
    "        lr=0.01\n",
    "    else:\n",
    "        lr=0.001\n",
    "    \n",
    "    for p in parameters:\n",
    "        p.data += -lr * p.grad\n",
    "    if i % 10_000 == 0:\n",
    "        print(f\"Current Loss: {loss.item():.3f}\")"
   ]
  },
  {
   "cell_type": "code",
   "execution_count": 52,
   "metadata": {},
   "outputs": [
    {
     "name": "stdout",
     "output_type": "stream",
     "text": [
      "training loss: 2.146\n"
     ]
    }
   ],
   "source": [
    "## Run Forward pss on training set to get training loss\n",
    "\n",
    "emb = C[X_train]\n",
    "h1 = torch.tanh(emb.view(-1, 3*emb_dim) @ w1 + b1) #<-- context_len=3\n",
    "logits = h1 @ w2 + b2 \n",
    "loss = F.cross_entropy(logits, Y_train)\n",
    "print(f\"training loss: {loss.item():.3f}\")"
   ]
  },
  {
   "cell_type": "code",
   "execution_count": 53,
   "metadata": {},
   "outputs": [
    {
     "name": "stdout",
     "output_type": "stream",
     "text": [
      "Validation loss: 2.173\n"
     ]
    }
   ],
   "source": [
    "## Run forward pass on validation data to get validation loss\n",
    "emb = C[X_val]\n",
    "h1 = torch.tanh(emb.view(-1, 3*emb_dim) @ w1 + b1)\n",
    "logits = h1 @ w2 + b2 \n",
    "loss = F.cross_entropy(logits, Y_val)\n",
    "print(f\"Validation loss: {loss.item():.3f}\")"
   ]
  },
  {
   "cell_type": "code",
   "execution_count": 54,
   "metadata": {},
   "outputs": [],
   "source": [
    "@torch.no_grad()\n",
    "def loss_on_split(split: str):\n",
    "    x, y = {\n",
    "        \"train\": (X_train, Y_train),\n",
    "        \"test\": (X_test, Y_test),\n",
    "        \"val\": (X_val, Y_val)\n",
    "    }[split]\n",
    "    \n",
    "    \n",
    "    #run forward pass and get loss\n",
    "    emb = C[x]\n",
    "    h1 = torch.tanh(emb.view(-1, 3*emb_dim) @ w1 + b1)\n",
    "    logits = h1 @ w2 + b2 \n",
    "    loss = F.cross_entropy(logits, y)\n",
    "    print(f\"{split} loss: {loss.item():.3f}\")"
   ]
  },
  {
   "cell_type": "markdown",
   "metadata": {},
   "source": [
    "### Sampling from the model\n",
    "\n",
    "The model is trained. it has adjusted its weights to best minimise the loss. Now it is time to generate new samples. Think lets pass one data point through..."
   ]
  },
  {
   "cell_type": "code",
   "execution_count": 55,
   "metadata": {},
   "outputs": [
    {
     "name": "stdout",
     "output_type": "stream",
     "text": [
      "hani.\n",
      "ely.\n",
      "zanakyrenatur.\n",
      "karayha.\n",
      "dupeus.\n",
      "cry.\n",
      "daliengutteelen.\n",
      "mycelias.\n",
      "chrigemy.\n",
      "kayliah.\n"
     ]
    }
   ],
   "source": [
    "generated_chars = []\n",
    "NUMBER_OF_NAMES = 10\n",
    "\n",
    "for _ in range(NUMBER_OF_NAMES):\n",
    "    #start with ...\n",
    "    context = [0] * 3\n",
    "    \n",
    "    while True:\n",
    "        #send it through the forward pass\n",
    "        emb = C[context] #(1_example, context_len, emb_dim) = (1, 3, 10)\n",
    "        h1 = torch.tanh(emb.view(-1, 3*emb_dim) @ w1 + b1) #(1, ll_neuron)\n",
    "        logits = h1 @ w2 + b2 #(1, 27) <-- 27 is length of our vocab \n",
    "\n",
    "        #now we create the prob dist (note: this was previously done internallu in cross_entorpy - but we dont want t he loss calculation, we want the prob dist)\n",
    "        prob_dist = F.softmax(logits, dim=1) #logits is a row vector, so calculate over the row (i.e. across dim 1 which the columns across the columns gives over the row)\n",
    "\n",
    "        #now we sample from the dist (a multinomal will do that for us)\n",
    "        idx = torch.multinomial(prob_dist, 1).item()\n",
    "        generated_chars.append(idx_to_char[idx])\n",
    "\n",
    "        if idx == 0:\n",
    "            break\n",
    "\n",
    "        context = context[1:] + [idx]\n",
    "\n",
    "    print(\"\".join(generated_chars))\n",
    "    generated_chars=[]"
   ]
  },
  {
   "cell_type": "markdown",
   "metadata": {},
   "source": []
  },
  {
   "cell_type": "markdown",
   "metadata": {},
   "source": [
    "## Improving the Optimisation. Through weight initalisation.\n",
    "\n",
    "Problems\n",
    "1. Inital loss is very high, we waste time and resources fixing that, in the first few iterations\n",
    "2. Saturated `tanh` where too many of our values fall within the flat area of the `tanh` (The pre-activations are too large). This causes the gradients to vanish. Which essentially turns off the tap for back prop, especially since tanh is one of the last function in the forward pass"
   ]
  },
  {
   "cell_type": "code",
   "execution_count": 56,
   "metadata": {},
   "outputs": [
    {
     "name": "stdout",
     "output_type": "stream",
     "text": [
      "With Random Initalisation\n",
      "tensor([1.2395e-02, 8.0285e-03, 9.7958e-01, 1.3372e-12]) tensor(0.0206)\n",
      "With Random Initalisation\n",
      "tensor([0.2500, 0.2500, 0.2500, 0.2500]) tensor(1.3863)\n"
     ]
    }
   ],
   "source": [
    "### 4D example\n",
    "# On the first forward pass - we would like our distribution of probabilities to be uniform.\n",
    "# We have no reason to believe that it would be anything else Since each next character should be equally likely\n",
    "# as we've done no learning. A uniform dist is our base case. \n",
    "\n",
    "#logits = torch.tensor([1.0, 1.0, 1.0, 1.0])\n",
    "\n",
    "\n",
    "# but by randomly generating the initalisation, we most likely choose weights which lead to high probabilities in the wrong index.\n",
    "# leading to our large loss.\n",
    "\n",
    "# In this case the first few iterations are spend squashing the high initalisations down!\n",
    "\n",
    "print(\"With Random Initalisation\")\n",
    "logits = torch.randn(4) * 10 #multiplied by ten to enphasize\n",
    "probs = torch.softmax(logits, dim=0)\n",
    "loss = -probs[2].log() # second value is the truth label\n",
    "print(probs, loss)\n",
    "\n",
    "\n",
    "print(\"With Random Initalisation\")\n",
    "logits = torch.tensor([1.0, 1.0, 1.0, 1.0]) # uniform dist, all logits the same.\n",
    "probs = torch.softmax(logits, dim=0)\n",
    "loss = -probs[2].log() # second value is the truth label\n",
    "print(probs, loss)\n",
    "\n",
    "# Ideally we want the logits to be all zero but we dont want to put all zeros into the intal weight values, we\n",
    "# want there to be some entropy, so aim is to get them all close to zero\n",
    "\n",
    "# the logits are h @ W2 + b2. h is the post activations of the previous layer (so cant do anything about those)\n",
    "# but can do something about the initalisation of W2 and b2. squsih these closer to zero by multiply by 0.1 and 0.01!"
   ]
  },
  {
   "cell_type": "code",
   "execution_count": 57,
   "metadata": {},
   "outputs": [
    {
     "name": "stdout",
     "output_type": "stream",
     "text": [
      "Current Loss: 29.849\n"
     ]
    }
   ],
   "source": [
    "### Train network - without the better initalisation for the logits ###\n",
    "\n",
    "ll_neurons = 250\n",
    "mini_batch_size=64\n",
    "emb_dim = 10\n",
    "iterations = 100_000\n",
    "\n",
    "\n",
    "## Lets reverse the order, so going from large steps to small steps:\n",
    "## Parameters ##\n",
    "C = torch.randn((27, emb_dim))\n",
    "w1 = torch.randn((3*emb_dim, ll_neurons)) \n",
    "b1 = torch.randn((ll_neurons)) \n",
    "w2 = torch.randn((ll_neurons, 27))\n",
    "b2 = torch.randn((27))\n",
    "parameters = [C, w1, b1, w2, b2]\n",
    "\n",
    "for p in parameters:\n",
    "    p.requires_grad = True\n",
    "\n",
    " \n",
    "for i in range(iterations):\n",
    "\n",
    "   \n",
    "    ix = torch.randint(0, X_train.shape[0], (mini_batch_size,))\n",
    "\n",
    "    ## FORWARD PASS ##\n",
    "    emb = C[X_train[ix]] # (mini_batch_size, 3, emb_dim) <-- 3 is the context length\n",
    "    h1 = torch.tanh(emb.view(-1, 3*emb_dim) @ w1 + b1) #(mini_batch_size, context_len_x_emb_dim)x(context_len_x_emb_dim, ll_neurons) gives (mini_batch_size, ll_neurons)\n",
    "    logits = h1 @ w2 + b2 #(mini_batch_size, 27) <-- 27 is length of our vocab (we want to produce p(next_char over dist given the seq))\n",
    "    loss = F.cross_entropy(logits, Y_train[ix]) #softmax is applied internally\n",
    "\n",
    "    ## BACKWARDS PASS ##\n",
    "    for p in parameters:\n",
    "        p.grad = None\n",
    "    loss.backward()\n",
    "\n",
    "    ## UPDATE ##\n",
    "    if i <= 50_000:\n",
    "        lr=0.1\n",
    "    elif ((i>50_000) & (i<80_000)):\n",
    "        lr=0.01\n",
    "    else:\n",
    "        lr=0.001\n",
    "    \n",
    "    for p in parameters:\n",
    "        p.data += -lr * p.grad\n",
    "    if i % 10_000 == 0:\n",
    "        print(f\"Current Loss: {loss.item():.3f}\")\n",
    "    \n",
    "    break"
   ]
  },
  {
   "cell_type": "code",
   "execution_count": 58,
   "metadata": {},
   "outputs": [
    {
     "data": {
      "text/plain": [
       "tensor([  2.7530, -15.1040,  -2.4514,  -2.9104,  -3.6035,  26.5108, -21.3550,\n",
       "         -2.7742,  -5.0324,   8.6122, -10.7575, -10.3114, -11.5820,  -0.6948,\n",
       "        -25.4730,  -6.3987, -14.7603,  14.4693,  -4.6045,   8.6681, -26.6831,\n",
       "         26.9149,  19.9188,   9.4994, -19.0232,  25.0681,  -4.0062])"
      ]
     },
     "execution_count": 58,
     "metadata": {},
     "output_type": "execute_result"
    }
   ],
   "source": [
    "logits[0].data"
   ]
  },
  {
   "cell_type": "markdown",
   "metadata": {},
   "source": [
    "See how the inital logits from the very 1st forward pass are really high and very random. remember we want one very high and all others very low."
   ]
  },
  {
   "cell_type": "code",
   "execution_count": 59,
   "metadata": {},
   "outputs": [
    {
     "name": "stdout",
     "output_type": "stream",
     "text": [
      "Current Loss: 3.299\n"
     ]
    }
   ],
   "source": [
    "### Train network - WITH better initalisation for the logits ###\n",
    "\n",
    "ll_neurons = 250\n",
    "mini_batch_size=64\n",
    "emb_dim = 10\n",
    "iterations = 100_000\n",
    "\n",
    "\n",
    "## Lets reverse the order, so going from large steps to small steps:\n",
    "## Parameters ##\n",
    "C = torch.randn((27, emb_dim))\n",
    "w1 = torch.randn((3*emb_dim, ll_neurons)) \n",
    "b1 = torch.randn((ll_neurons)) \n",
    "w2 = torch.randn((ll_neurons, 27)) * 0.01\n",
    "b2 = torch.randn((27)) * 0.01\n",
    "parameters = [C, w1, b1, w2, b2]\n",
    "\n",
    "for p in parameters:\n",
    "    p.requires_grad = True\n",
    "\n",
    " \n",
    "for i in range(iterations):\n",
    "\n",
    "   \n",
    "    ix = torch.randint(0, X_train.shape[0], (mini_batch_size,))\n",
    "\n",
    "    ## FORWARD PASS ##\n",
    "    emb = C[X_train[ix]] # (mini_batch_size, 3, emb_dim) <-- 3 is the context length\n",
    "    h1 = torch.tanh(emb.view(-1, 3*emb_dim) @ w1 + b1) #(mini_batch_size, context_len_x_emb_dim)x(context_len_x_emb_dim, ll_neurons) gives (mini_batch_size, ll_neurons)\n",
    "    logits = h1 @ w2 + b2 #(mini_batch_size, 27) <-- 27 is length of our vocab (we want to produce p(next_char over dist given the seq))\n",
    "    loss = F.cross_entropy(logits, Y_train[ix]) #softmax is applied internally\n",
    "\n",
    "    ## BACKWARDS PASS ##\n",
    "    for p in parameters:\n",
    "        p.grad = None\n",
    "    loss.backward()\n",
    "\n",
    "    ## UPDATE ##\n",
    "    if i <= 50_000:\n",
    "        lr=0.1\n",
    "    elif ((i>50_000) & (i<80_000)):\n",
    "        lr=0.01\n",
    "    else:\n",
    "        lr=0.001\n",
    "    \n",
    "    for p in parameters:\n",
    "        p.data += -lr * p.grad\n",
    "    if i % 10_000 == 0:\n",
    "        print(f\"Current Loss: {loss.item():.3f}\")\n",
    "    \n",
    "    break"
   ]
  },
  {
   "cell_type": "code",
   "execution_count": 60,
   "metadata": {},
   "outputs": [
    {
     "data": {
      "text/plain": [
       "tensor([ 0.1354,  0.1679,  0.0822, -0.2242, -0.0205,  0.4188,  0.0490, -0.1277,\n",
       "         0.1525,  0.2600,  0.1735, -0.0043, -0.0062, -0.2185, -0.1079, -0.0944,\n",
       "        -0.0834, -0.1241, -0.0424,  0.1675,  0.1340, -0.0340, -0.0839,  0.1248,\n",
       "        -0.1570, -0.1774,  0.2810])"
      ]
     },
     "execution_count": 60,
     "metadata": {},
     "output_type": "execute_result"
    }
   ],
   "source": [
    "logits[0].data"
   ]
  },
  {
   "cell_type": "markdown",
   "metadata": {},
   "source": [
    "This is much better place to start! the loss is already very low! None have got any preference over the other, we essentially have a uniform dist."
   ]
  },
  {
   "cell_type": "code",
   "execution_count": null,
   "metadata": {},
   "outputs": [],
   "source": []
  },
  {
   "cell_type": "code",
   "execution_count": 61,
   "metadata": {},
   "outputs": [
    {
     "name": "stdout",
     "output_type": "stream",
     "text": [
      "Current Loss: 3.294\n",
      "Current Loss: 1.926\n",
      "Current Loss: 2.046\n",
      "Current Loss: 2.201\n",
      "Current Loss: 2.149\n",
      "Current Loss: 1.830\n",
      "Current Loss: 2.149\n",
      "Current Loss: 2.242\n"
     ]
    }
   ],
   "source": [
    "### Train network - WITH better initalisation for the logits ###\n",
    "\n",
    "ll_neurons = 250\n",
    "mini_batch_size=64\n",
    "emb_dim = 10\n",
    "iterations = 80_000\n",
    "\n",
    "loss_list = []\n",
    "## Lets reverse the order, so going from large steps to small steps:\n",
    "## Parameters ##\n",
    "C = torch.randn((27, emb_dim))\n",
    "w1 = torch.randn((3*emb_dim, ll_neurons)) \n",
    "b1 = torch.randn((ll_neurons)) \n",
    "w2 = torch.randn((ll_neurons, 27)) * 0.01\n",
    "b2 = torch.randn((27)) * 0.01\n",
    "parameters = [C, w1, b1, w2, b2]\n",
    "\n",
    "for p in parameters:\n",
    "    p.requires_grad = True\n",
    "\n",
    " \n",
    "for i in range(iterations):\n",
    "\n",
    "   \n",
    "    ix = torch.randint(0, X_train.shape[0], (mini_batch_size,))\n",
    "\n",
    "    ## FORWARD PASS ##\n",
    "    emb = C[X_train[ix]] # (mini_batch_size, 3, emb_dim) <-- 3 is the context length\n",
    "    h1 = torch.tanh(emb.view(-1, 3*emb_dim) @ w1 + b1) #(mini_batch_size, context_len_x_emb_dim)x(context_len_x_emb_dim, ll_neurons) gives (mini_batch_size, ll_neurons)\n",
    "    logits = h1 @ w2 + b2 #(mini_batch_size, 27) <-- 27 is length of our vocab (we want to produce p(next_char over dist given the seq))\n",
    "    loss = F.cross_entropy(logits, Y_train[ix]) #softmax is applied internally\n",
    "\n",
    "    ## BACKWARDS PASS ##\n",
    "    for p in parameters:\n",
    "        p.grad = None\n",
    "    loss.backward()\n",
    "\n",
    "    ## UPDATE ##\n",
    "    if i <= 30_000:\n",
    "        lr=0.1\n",
    "    elif ((i>30_000) & (i<60_000)):\n",
    "        lr=0.01\n",
    "    else:\n",
    "        lr=0.001\n",
    "    \n",
    "    for p in parameters:\n",
    "        p.data += -lr * p.grad\n",
    "    if i % 10_000 == 0:\n",
    "        print(f\"Current Loss: {loss.item():.3f}\")\n",
    "        loss_list.append(loss.item())"
   ]
  },
  {
   "cell_type": "code",
   "execution_count": 62,
   "metadata": {},
   "outputs": [
    {
     "data": {
      "text/plain": [
       "[<matplotlib.lines.Line2D at 0x28946901d60>]"
      ]
     },
     "execution_count": 62,
     "metadata": {},
     "output_type": "execute_result"
    },
    {
     "data": {
      "image/png": "[encoded data removed]",
      "text/plain": [
       "<Figure size 640x480 with 1 Axes>"
      ]
     },
     "metadata": {},
     "output_type": "display_data"
    }
   ],
   "source": [
    "plt.plot(loss_list)"
   ]
  },
  {
   "cell_type": "code",
   "execution_count": 63,
   "metadata": {},
   "outputs": [],
   "source": [
    "# Now rather than a hockey stick, we have a more gradual decline! becuase we removed the inital squishing.\n",
    "# we also have more iterations avalible at the end to finer tune the loss (because we dont spend time squishing at start)"
   ]
  },
  {
   "cell_type": "code",
   "execution_count": null,
   "metadata": {},
   "outputs": [
    {
     "name": "stdout",
     "output_type": "stream",
     "text": [
      "train loss: 2.088\n",
      "test loss: 2.155\n"
     ]
    }
   ],
   "source": [
    "loss_on_split(\"train\") #2.14 before\n",
    "loss_on_split(\"test\") #2.17 before"
   ]
  },
  {
   "cell_type": "markdown",
   "metadata": {},
   "source": [
    "#### Saturated Tanh\n",
    "\n",
    "The logits are sorted, we have initalised the weight to be roughly uniform and close to zero, which cuts down the inital squashing of the weights.\n",
    "\n",
    "Now the problem lies with the post-activations `h1 = torch.tanh(emb.view(-1, 3*emb_dim) @ w1 + b1)`. if we take a look at the post and pre activations we see...."
   ]
  },
  {
   "cell_type": "code",
   "execution_count": 79,
   "metadata": {},
   "outputs": [
    {
     "data": {
      "image/png": "[encoded data removed]",
      "text/plain": [
       "<Figure size 640x480 with 1 Axes>"
      ]
     },
     "metadata": {},
     "output_type": "display_data"
    }
   ],
   "source": [
    "plt.hist(h1.view(-1).tolist())\n",
    "plt.title(\"Post-activations of tanh\")\n",
    "plt.show()"
   ]
  },
  {
   "cell_type": "markdown",
   "metadata": {},
   "source": [
    "We can see that most values fall in either +/- 1. Which means the pre-activations (what is being sent into the tanh function) are mostly large values which fall in the flat ends of the tanh."
   ]
  },
  {
   "cell_type": "code",
   "execution_count": 86,
   "metadata": {},
   "outputs": [
    {
     "data": {
      "image/png": "[encoded data removed]",
      "text/plain": [
       "<Figure size 640x480 with 1 Axes>"
      ]
     },
     "metadata": {},
     "output_type": "display_data"
    }
   ],
   "source": [
    "pre_act = emb.view(-1, 3*emb_dim) @ w1 + b1\n",
    "plt.hist(pre_act.view(-1).data, bins=50)\n",
    "plt.show()"
   ]
  },
  {
   "cell_type": "markdown",
   "metadata": {},
   "source": [
    "Most of these pre-activations fall within the flat regions of tanh (i.e. above +/- 2). Now this causes a problem when we back propogate!. If we recall the dervative of the tanh is 1-tanh**2. so if the values of the post-activations are very close to +/-1 we find that the gradient is very very small and as we iterate they will vanish and the network will stop learning! Not Good!\n",
    "\n",
    "We can see how many of the weights are zero-ing out, if all the weights zero-out (i.e. produce post-actrivations very close to +/- 1) then the whole neuron blacks out and is useless!"
   ]
  },
  {
   "cell_type": "code",
   "execution_count": 89,
   "metadata": {},
   "outputs": [
    {
     "name": "stdout",
     "output_type": "stream",
     "text": [
      "Current Loss: 3.296\n"
     ]
    }
   ],
   "source": [
    "### Train network - WITH better initalisation for the logits ###\n",
    "\n",
    "ll_neurons = 250\n",
    "mini_batch_size=64\n",
    "emb_dim = 10\n",
    "iterations = 80_000\n",
    "\n",
    "loss_list = []\n",
    "## Lets reverse the order, so going from large steps to small steps:\n",
    "## Parameters ##\n",
    "C = torch.randn((27, emb_dim))\n",
    "w1 = torch.randn((3*emb_dim, ll_neurons)) \n",
    "b1 = torch.randn((ll_neurons)) \n",
    "w2 = torch.randn((ll_neurons, 27)) * 0.01\n",
    "b2 = torch.randn((27)) * 0.01\n",
    "parameters = [C, w1, b1, w2, b2]\n",
    "\n",
    "for p in parameters:\n",
    "    p.requires_grad = True\n",
    "\n",
    " \n",
    "for i in range(iterations):\n",
    "\n",
    "   \n",
    "    ix = torch.randint(0, X_train.shape[0], (mini_batch_size,))\n",
    "\n",
    "    ## FORWARD PASS ##\n",
    "    emb = C[X_train[ix]] # (mini_batch_size, 3, emb_dim) <-- 3 is the context length\n",
    "    h1 = torch.tanh(emb.view(-1, 3*emb_dim) @ w1 + b1) #(mini_batch_size, context_len_x_emb_dim)x(context_len_x_emb_dim, ll_neurons) gives (mini_batch_size, ll_neurons)\n",
    "    logits = h1 @ w2 + b2 #(mini_batch_size, 27) <-- 27 is length of our vocab (we want to produce p(next_char over dist given the seq))\n",
    "    loss = F.cross_entropy(logits, Y_train[ix]) #softmax is applied internally\n",
    "\n",
    "    ## BACKWARDS PASS ##\n",
    "    for p in parameters:\n",
    "        p.grad = None\n",
    "    loss.backward()\n",
    "\n",
    "    ## UPDATE ##\n",
    "    if i <= 30_000:\n",
    "        lr=0.1\n",
    "    elif ((i>30_000) & (i<60_000)):\n",
    "        lr=0.01\n",
    "    else:\n",
    "        lr=0.001\n",
    "    \n",
    "    for p in parameters:\n",
    "        p.data += -lr * p.grad\n",
    "    if i % 10_000 == 0:\n",
    "        print(f\"Current Loss: {loss.item():.3f}\")\n",
    "        loss_list.append(loss.item())\n",
    "        \n",
    "    break #after one interation!"
   ]
  },
  {
   "cell_type": "code",
   "execution_count": 106,
   "metadata": {},
   "outputs": [
    {
     "data": {
      "image/png": "[encoded data removed]",
      "text/plain": [
       "<Figure size 1000x600 with 1 Axes>"
      ]
     },
     "metadata": {},
     "output_type": "display_data"
    }
   ],
   "source": [
    "plt.figure(figsize=(10, 6))\n",
    "plt.imshow(h1.abs() > 0.99, cmap=\"grey\") #white if true, black if false\n",
    "plt.xlabel(\"Neuron\")\n",
    "plt.ylabel(\"Batch Size (64 examples)\")\n",
    "plt.show()"
   ]
  },
  {
   "cell_type": "markdown",
   "metadata": {},
   "source": [
    "if a whole column is whited out, then we have a blacked out neuron!\n",
    "\n",
    "The problem lies in the pre-activations being too large, so lets make them smaller but initalising them closer to zero! if we multiply the initalisations by a decimal (0.2 say) (like we did for the initalisations of the logits), we should see more values falling in the diagnol of the tanh, which leads to sensible values fro the derivative of tanh in the backward pass"
   ]
  },
  {
   "cell_type": "code",
   "execution_count": 119,
   "metadata": {},
   "outputs": [
    {
     "name": "stdout",
     "output_type": "stream",
     "text": [
      "Current Loss: 3.279\n"
     ]
    }
   ],
   "source": [
    "ll_neurons = 250\n",
    "mini_batch_size=64\n",
    "emb_dim = 10\n",
    "iterations = 80_000\n",
    "\n",
    "loss_list = []\n",
    "## Lets reverse the order, so going from large steps to small steps:\n",
    "## Parameters ##\n",
    "C = torch.randn((27, emb_dim))\n",
    "w1 = torch.randn((3*emb_dim, ll_neurons)) * 0.2\n",
    "b1 = torch.randn((ll_neurons)) * 0.1\n",
    "w2 = torch.randn((ll_neurons, 27)) * 0.01\n",
    "b2 = torch.randn((27)) * 0.01\n",
    "parameters = [C, w1, b1, w2, b2]\n",
    "\n",
    "for p in parameters:\n",
    "    p.requires_grad = True\n",
    "\n",
    " \n",
    "for i in range(iterations):\n",
    "\n",
    "   \n",
    "    ix = torch.randint(0, X_train.shape[0], (mini_batch_size,))\n",
    "\n",
    "    ## FORWARD PASS ##\n",
    "    emb = C[X_train[ix]] # (mini_batch_size, 3, emb_dim) <-- 3 is the context length\n",
    "    h1 = torch.tanh(emb.view(-1, 3*emb_dim) @ w1 + b1) #(mini_batch_size, context_len_x_emb_dim)x(context_len_x_emb_dim, ll_neurons) gives (mini_batch_size, ll_neurons)\n",
    "    logits = h1 @ w2 + b2 #(mini_batch_size, 27) <-- 27 is length of our vocab (we want to produce p(next_char over dist given the seq))\n",
    "    loss = F.cross_entropy(logits, Y_train[ix]) #softmax is applied internally\n",
    "\n",
    "    ## BACKWARDS PASS ##\n",
    "    for p in parameters:\n",
    "        p.grad = None\n",
    "    loss.backward()\n",
    "\n",
    "    ## UPDATE ##\n",
    "    if i <= 30_000:\n",
    "        lr=0.1\n",
    "    elif ((i>30_000) & (i<60_000)):\n",
    "        lr=0.01\n",
    "    else:\n",
    "        lr=0.001\n",
    "    \n",
    "    for p in parameters:\n",
    "        p.data += -lr * p.grad\n",
    "    if i % 10_000 == 0:\n",
    "        print(f\"Current Loss: {loss.item():.3f}\")\n",
    "        loss_list.append(loss.item())\n",
    "        \n",
    "    break #after one interation!"
   ]
  },
  {
   "cell_type": "code",
   "execution_count": 120,
   "metadata": {},
   "outputs": [
    {
     "data": {
      "image/png": "[encoded data removed]",
      "text/plain": [
       "<Figure size 1000x600 with 1 Axes>"
      ]
     },
     "metadata": {},
     "output_type": "display_data"
    }
   ],
   "source": [
    "plt.figure(figsize=(10, 6))\n",
    "plt.imshow(h1.abs() > 0.99, cmap=\"grey\") #white if true, black if false\n",
    "plt.xlabel(\"Neuron\")\n",
    "plt.ylabel(\"Batch Size (64 examples)\")\n",
    "plt.show()"
   ]
  },
  {
   "cell_type": "code",
   "execution_count": 121,
   "metadata": {},
   "outputs": [
    {
     "data": {
      "image/png": "[encoded data removed]",
      "text/plain": [
       "<Figure size 640x480 with 1 Axes>"
      ]
     },
     "metadata": {},
     "output_type": "display_data"
    }
   ],
   "source": [
    "plt.hist(h1.view(-1).tolist())\n",
    "plt.title(\"Post-activations of tanh\")\n",
    "plt.show()"
   ]
  },
  {
   "cell_type": "code",
   "execution_count": 122,
   "metadata": {},
   "outputs": [
    {
     "data": {
      "image/png": "[encoded data removed]",
      "text/plain": [
       "<Figure size 640x480 with 1 Axes>"
      ]
     },
     "metadata": {},
     "output_type": "display_data"
    }
   ],
   "source": [
    "pre_act = emb.view(-1, 3*emb_dim) @ w1 + b1\n",
    "plt.hist(pre_act.view(-1).data, bins=50)\n",
    "plt.show()"
   ]
  },
  {
   "cell_type": "markdown",
   "metadata": {},
   "source": [
    "pre-activations are much smaller and so more fall in the diagonal part of the tanh (+/-2). which leads to values within +/-1, which leads to sensible dervative values for tanh in the backwards pass!\n",
    "\n",
    "NOTE: we dont want the weights to be too small, otherwise nothing will happen in the backwards pass, the gradients will just flow through. If pre-activations are too small then the derviative (1-tanh**2) will be approximately 1. Meaning the gradient will just pass straight through and will have no effect on the backwards pass. Also tanh(0) = 0, meaning the tanh adds nothing for very small values.\n",
    "\n",
    "KEY: We want the pre-activations (just before they go into the tanh) to be roughly gaussian, because:\n",
    "* If they are too small (very very close to zero) then the tanh becomes inactive tanh(0)=0 and in the backwards pass d/dx(tanh(x)) = 1-tanh(x)**2 = 1 and gradients just flow through and importantly there is no meaningful update to the gradient in the update step (just the other `∂L/∂w = ∂L/∂y * ∂y/∂z * ∂z/∂w` where `dy/dz`=1 as y=tanh(z))\n",
    "* If they are way too large then the tanh is way to saturated (most values fall in the flats) and the gradient vanishes!"
   ]
  },
  {
   "cell_type": "markdown",
   "metadata": {},
   "source": []
  },
  {
   "cell_type": "code",
   "execution_count": null,
   "metadata": {},
   "outputs": [],
   "source": []
  },
  {
   "cell_type": "code",
   "execution_count": null,
   "metadata": {},
   "outputs": [],
   "source": []
  },
  {
   "cell_type": "code",
   "execution_count": 124,
   "metadata": {},
   "outputs": [
    {
     "name": "stdout",
     "output_type": "stream",
     "text": [
      "Current Loss: 3.316\n",
      "Current Loss: 2.612\n",
      "Current Loss: 2.271\n",
      "Current Loss: 2.175\n",
      "Current Loss: 1.950\n",
      "Current Loss: 2.063\n",
      "Current Loss: 2.280\n",
      "Current Loss: 2.160\n"
     ]
    }
   ],
   "source": [
    "# lets run full optimisation with both initalisation improvements:\n",
    "\n",
    "ll_neurons = 250\n",
    "mini_batch_size=64\n",
    "emb_dim = 10\n",
    "iterations = 80_000\n",
    "\n",
    "loss_list = []\n",
    "## Lets reverse the order, so going from large steps to small steps:\n",
    "## Parameters ##\n",
    "C = torch.randn((27, emb_dim))\n",
    "w1 = torch.randn((3*emb_dim, ll_neurons)) * 0.2\n",
    "b1 = torch.randn((ll_neurons)) * 0.1\n",
    "w2 = torch.randn((ll_neurons, 27)) * 0.01\n",
    "b2 = torch.randn((27)) * 0.01\n",
    "parameters = [C, w1, b1, w2, b2]\n",
    "\n",
    "for p in parameters:\n",
    "    p.requires_grad = True\n",
    "\n",
    " \n",
    "for i in range(iterations):\n",
    "\n",
    "   \n",
    "    ix = torch.randint(0, X_train.shape[0], (mini_batch_size,))\n",
    "\n",
    "    ## FORWARD PASS ##\n",
    "    emb = C[X_train[ix]] # (mini_batch_size, 3, emb_dim) <-- 3 is the context length\n",
    "    h1 = torch.tanh(emb.view(-1, 3*emb_dim) @ w1 + b1) #(mini_batch_size, context_len_x_emb_dim)x(context_len_x_emb_dim, ll_neurons) gives (mini_batch_size, ll_neurons)\n",
    "    logits = h1 @ w2 + b2 #(mini_batch_size, 27) <-- 27 is length of our vocab (we want to produce p(next_char over dist given the seq))\n",
    "    loss = F.cross_entropy(logits, Y_train[ix]) #softmax is applied internally\n",
    "\n",
    "    ## BACKWARDS PASS ##\n",
    "    for p in parameters:\n",
    "        p.grad = None\n",
    "    loss.backward()\n",
    "\n",
    "    ## UPDATE ##\n",
    "    if i <= 30_000:\n",
    "        lr=0.1\n",
    "    elif ((i>30_000) & (i<60_000)):\n",
    "        lr=0.01\n",
    "    else:\n",
    "        lr=0.001\n",
    "    \n",
    "    for p in parameters:\n",
    "        p.data += -lr * p.grad\n",
    "    if i % 10_000 == 0:\n",
    "        print(f\"Current Loss: {loss.item():.3f}\")\n",
    "        loss_list.append(loss.item())"
   ]
  },
  {
   "cell_type": "code",
   "execution_count": 125,
   "metadata": {},
   "outputs": [
    {
     "name": "stdout",
     "output_type": "stream",
     "text": [
      "train loss: 2.053\n",
      "test loss: 2.113\n"
     ]
    }
   ],
   "source": [
    "loss_on_split(\"train\") #2.14 before then #2.09 with the logit init\n",
    "loss_on_split(\"test\") #2.17 before then #2.16"
   ]
  },
  {
   "cell_type": "markdown",
   "metadata": {},
   "source": [
    "#### Kaiming int\n",
    "\n",
    "When we multiply a normal gausian with mean=0 and std=1 with a decimal number we are squishing it from the left and right. We take a N(0, 1) * 0.2 and it becomes a N(0, 0.2). we are squishing in the std. the values are closer to zero, as the spread is less around the mean of zero.\n",
    "\n",
    "But what is the appropriate value to set the std to for initalisation? Well there was a paper (Delving deep into rectifiers: Surpassing human-level performance on ImageNet classification - kaming He et al. (2015).) whihc descibes the appropriate scaling. Pytroch has a method for it `torch.nn.init.kaiming_normal_()`\n",
    "\n",
    "In our case $$std=(5/3)/(fan_{in})^{0.5}$$ where the `fan_in= (context_len=3)*emb_dim` Its the 1st dimension of `w1`\n",
    "\n",
    "\n",
    "The importance of these initalisations are not as important nower days due to modern investions such:\n",
    "* Batch/layer normalisation\n",
    "* residual connections\n",
    "* better optimisers - Adam RMSprop\n",
    "\n",
    "Mean the exact initalisations of the neural network is less important as these things make training more stable, but still is a nice thing to do.\n"
   ]
  },
  {
   "cell_type": "markdown",
   "metadata": {},
   "source": [
    "### Adding Batch Normalisation\n",
    "\n",
    "BN is placed arfter layers that contain multiplication!"
   ]
  },
  {
   "cell_type": "code",
   "execution_count": 1,
   "metadata": {},
   "outputs": [],
   "source": [
    "import torch\n",
    "import torch.nn.functional as F"
   ]
  },
  {
   "cell_type": "code",
   "execution_count": 2,
   "metadata": {},
   "outputs": [
    {
     "data": {
      "text/plain": [
       "['emma', 'olivia', 'ava', 'isabella', 'sophia', 'charlotte', 'mia', 'amelia']"
      ]
     },
     "execution_count": 2,
     "metadata": {},
     "output_type": "execute_result"
    }
   ],
   "source": [
    "names = open(\"names.txt\", \"r\").read().splitlines()\n",
    "names[:8]"
   ]
  },
  {
   "cell_type": "code",
   "execution_count": 3,
   "metadata": {},
   "outputs": [
    {
     "data": {
      "text/plain": [
       "32033"
      ]
     },
     "execution_count": 3,
     "metadata": {},
     "output_type": "execute_result"
    }
   ],
   "source": [
    "len(names)"
   ]
  },
  {
   "cell_type": "code",
   "execution_count": 4,
   "metadata": {},
   "outputs": [],
   "source": [
    "### Build the vocab ###\n",
    "\n",
    "#find all characters in our dataset\n",
    "vocab = sorted(list(set(''.join(names))))\n",
    "vocab.insert(0, \".\")\n",
    "\n",
    "#create vocab mappings\n",
    "char_to_idx = {char: idx for idx, char in enumerate(vocab)}\n",
    "idx_to_char = {idx: char for idx, char in enumerate(vocab)}"
   ]
  },
  {
   "cell_type": "code",
   "execution_count": 5,
   "metadata": {},
   "outputs": [],
   "source": [
    "context_len = 3\n",
    "X, Y = [], []\n",
    "\n",
    "for name in names:\n",
    "    #initalise context with \".\" characters (index 0)\n",
    "    context = [0] * context_len\n",
    "    \n",
    "    for char in name + \".\": # add end character to the name\n",
    "        y = char_to_idx[char]\n",
    "        X.append(context)\n",
    "        Y.append(y)\n",
    "\n",
    "        #shift the context (like a rolling window)\n",
    "        context = context[1:] + [y]\n",
    "\n",
    "#store as tensors\n",
    "X = torch.tensor(X)\n",
    "Y = torch.tensor(Y)"
   ]
  },
  {
   "cell_type": "code",
   "execution_count": 6,
   "metadata": {},
   "outputs": [],
   "source": [
    "def create_dataset(names, context_len=3):\n",
    "    \"\"\"Function to create a dataset out of a list of names given to it\n",
    "\n",
    "    Args:\n",
    "        names (list)\n",
    "        context_len (int, optional):Defaults to 3.\n",
    "\n",
    "    Returns:\n",
    "        tuple: X, Y\n",
    "    \"\"\"\n",
    "\n",
    "    X, Y = [], []\n",
    "    for name in names:\n",
    "        #initalise context with \".\" characters (index 0)\n",
    "        context = [0] * context_len\n",
    "        \n",
    "        for char in name + \".\": # add end character to the name\n",
    "            y = char_to_idx[char]\n",
    "            X.append(context)\n",
    "            Y.append(y)\n",
    "        \n",
    "            #shift the context (like a rolling window)\n",
    "            context = context[1:] + [y]\n",
    "\n",
    "    #store as tensors\n",
    "    X = torch.tensor(X)\n",
    "    Y = torch.tensor(Y)\n",
    "\n",
    "    return X, Y"
   ]
  },
  {
   "cell_type": "code",
   "execution_count": 7,
   "metadata": {},
   "outputs": [],
   "source": [
    "## Split simply by indexing\n",
    "import random\n",
    "random.shuffle(names)\n",
    "train_split = int(0.8*len(names))\n",
    "val_split = int(0.9*len(names))\n",
    "X_train, Y_train = create_dataset(names[:train_split])\n",
    "X_val, Y_val = create_dataset(names[train_split:val_split])\n",
    "X_test, Y_test = create_dataset(names[val_split:])"
   ]
  },
  {
   "cell_type": "code",
   "execution_count": 8,
   "metadata": {},
   "outputs": [
    {
     "name": "stdout",
     "output_type": "stream",
     "text": [
      "torch.Size([182355, 3]) torch.Size([182355])\n",
      "torch.Size([22760, 3]) torch.Size([22760])\n",
      "torch.Size([23031, 3]) torch.Size([23031])\n"
     ]
    }
   ],
   "source": [
    "print(X_train.shape, Y_train.shape)\n",
    "print(X_val.shape, Y_val.shape)\n",
    "print(X_test.shape, Y_test.shape)"
   ]
  },
  {
   "cell_type": "code",
   "execution_count": null,
   "metadata": {},
   "outputs": [
    {
     "name": "stdout",
     "output_type": "stream",
     "text": [
      "Current Loss: 3.308\n",
      "Current Loss: 1.981\n",
      "Current Loss: 2.057\n",
      "Current Loss: 2.266\n",
      "Current Loss: 2.053\n",
      "Current Loss: 2.147\n",
      "Current Loss: 2.204\n",
      "Current Loss: 2.168\n"
     ]
    }
   ],
   "source": [
    "# lets run full optimisation with both initalisation improvements:\n",
    "\n",
    "ll_neurons = 250\n",
    "mini_batch_size=64\n",
    "emb_dim = 10\n",
    "iterations = 80_000\n",
    "\n",
    "loss_list = []\n",
    "## Lets reverse the order, so going from large steps to small steps:\n",
    "## Parameters ##\n",
    "C = torch.randn((27, emb_dim))\n",
    "w1 = torch.randn((3*emb_dim, ll_neurons)) * (5/3) / (3*emb_dim)**0.5\n",
    "b1 = torch.randn((ll_neurons)) * 0.1 #bias to be removed (see KEY POINT BELOW)\n",
    "w2 = torch.randn((ll_neurons, 27)) * 0.01\n",
    "b2 = torch.randn((27)) * 0.01\n",
    "\n",
    "# shift and scale (learnable parameters)\n",
    "bn_scale = torch.ones((1, ll_neurons))\n",
    "bn_shift = torch.zeros((1, ll_neurons))\n",
    "\n",
    "# Not learnable! iteratively updated in a running fashion during training\n",
    "running_mean = torch.zeros((1, ll_neurons))\n",
    "running_std = torch.ones((1, ll_neurons))\n",
    "\n",
    "# ALL LEARNABLE PARAMETERS\n",
    "parameters = [C, w1, b1, w2, b2, bn_scale, bn_shift]\n",
    "\n",
    "for p in parameters:\n",
    "    p.requires_grad = True\n",
    "\n",
    " \n",
    "for i in range(iterations):\n",
    "\n",
    "   # random integers of the length mini_batch_size\n",
    "    ix = torch.randint(0, X_train.shape[0], (mini_batch_size,))\n",
    "\n",
    "    ## FORWARD PASS ##\n",
    "    emb = C[X_train[ix]] # (mini_batch_size, 3, emb_dim) <-- 3 is the context length\n",
    "    pre_act = emb.view(-1, 3*emb_dim) @ w1 + b1 #(mini_batch_size, context_len_x_emb_dim)x(context_len_x_emb_dim, ll_neurons) gives (mini_batch_size, ll_neurons)\n",
    "    \n",
    "    ## BATCH NORM ## - standardize pre-activations then scale and shift (scale and shift are learnable parameters!)\n",
    "    batch_mean = pre_act.mean(dim=0, keepdim=True)\n",
    "    batch_std = pre_act.std(dim=0, keepdim=True)\n",
    "    batch_norm = bn_scale * ((pre_act - batch_mean) / batch_std) + bn_shift\n",
    "    \n",
    "    # In inference we would like to predict on one example\n",
    "    # Right now with batch_mean anf batch_std its not possible\n",
    "    # So create a running mean and running std, to use in inference\n",
    "    # These aren't learnt, they are estimated during train in a running fassion\n",
    "    \n",
    "    with torch.no_grad():\n",
    "        running_mean = 0.999 * running_mean + 0.001 * batch_mean # what it was before plus a little bit from this batch\n",
    "        running_std = 0.999 * running_std + 0.001 * batch_std\n",
    "    \n",
    "    \n",
    "    h1 = torch.tanh(batch_norm) #(mini_batch_size, ll_neurons)\n",
    "    logits = h1 @ w2 + b2 #(mini_batch_size, 27) <-- 27 is length of our vocab (we want to produce p(next_char over dist given the seq))\n",
    "    loss = F.cross_entropy(logits, Y_train[ix]) #softmax is applied internally\n",
    "\n",
    "    ## BACKWARDS PASS ##\n",
    "    for p in parameters:\n",
    "        p.grad = None\n",
    "    loss.backward()\n",
    "\n",
    "    ## UPDATE ##\n",
    "    if i <= 30_000:\n",
    "        lr=0.1\n",
    "    elif ((i>30_000) & (i<60_000)):\n",
    "        lr=0.01\n",
    "    else:\n",
    "        lr=0.001\n",
    "    \n",
    "    for p in parameters:\n",
    "        p.data += -lr * p.grad\n",
    "    if i % 10_000 == 0:\n",
    "        print(f\"Current Loss: {loss.item():.3f}\")\n",
    "        loss_list.append(loss.item())"
   ]
  },
  {
   "cell_type": "code",
   "execution_count": 11,
   "metadata": {},
   "outputs": [],
   "source": [
    "@torch.no_grad()\n",
    "def loss_on_split(split: str):\n",
    "    x, y = {\n",
    "        \"train\": (X_train, Y_train),\n",
    "        \"test\": (X_test, Y_test),\n",
    "        \"val\": (X_val, Y_val)\n",
    "    }[split]\n",
    "    \n",
    "    \n",
    "    #run forward pass and get loss\n",
    "    emb = C[x]\n",
    "    pre_act = emb.view(-1, 3*emb_dim) @ w1 + b1\n",
    "    # We use the running mean and std we calculated iteratively during training\n",
    "    batch_norm = bn_scale * ((pre_act - running_mean) / (running_std**0.5)) + bn_shift\n",
    "    h1 = torch.tanh(batch_norm)\n",
    "    logits = h1 @ w2 + b2 \n",
    "    loss = F.cross_entropy(logits, y)\n",
    "    print(f\"{split} loss: {loss.item():.3f}\")"
   ]
  },
  {
   "cell_type": "code",
   "execution_count": 12,
   "metadata": {},
   "outputs": [
    {
     "name": "stdout",
     "output_type": "stream",
     "text": [
      "train loss: 2.065\n",
      "test loss: 2.104\n"
     ]
    }
   ],
   "source": [
    "loss_on_split(\"train\")\n",
    "loss_on_split(\"test\")"
   ]
  },
  {
   "cell_type": "markdown",
   "metadata": {},
   "source": [
    "An intresting property of batch normalisation is its regularization effect. Before BN we firstly sent one example in, calculated its activation and then its logit and sent through the becakwards pass. Then we started, for effeciency, processing batches of examples. But these batches were still independently processed. Now with BN, these batches and the examples in them become coupled (as we are taking the mean and std over the batch). Theyre no longer completely independent. What this means is that since we are sampling randomly for the batch, the resulting activations of a single example will change based on which examples come for a ride in the batch. i.e. if we have one example in a certain batch, it will give a certain activation value. if we take that same example but with a different batch, the activation will most likely be slightly different, becausde of the difference in the batches. As were takeing the mean and std over the batch, these will change for different batches!!!\n",
    "\n",
    "its a bit like data augmentation. The example is gittered a bit for each different batch. which has a nice regularization effect, stopping the network over fitting\n",
    "\n",
    "But we dont really like the coupling in batches! and researches have tried to look at different normalisation, that doesnt couple the batches. But Batch normulisation works well! (`GroupNormalisation`)"
   ]
  },
  {
   "cell_type": "code",
   "execution_count": 13,
   "metadata": {},
   "outputs": [
    {
     "data": {
      "text/plain": [
       "tensor([ 9.3132e-10, -1.8626e-09, -4.6566e-10,  1.6298e-09,  9.3132e-10,\n",
       "         1.3970e-09,  1.3970e-09,  2.3283e-09,  6.4028e-10,  1.3970e-09,\n",
       "        -9.3132e-10,  1.4261e-09,  9.3132e-10, -1.3970e-09,  9.3132e-10,\n",
       "         1.8626e-09, -1.7462e-10,  1.1642e-09,  3.7253e-09,  2.7940e-09,\n",
       "         3.0268e-09,  2.3283e-10, -1.2806e-09,  2.5611e-09,  4.6566e-10,\n",
       "         8.7311e-10, -6.9849e-10,  5.2969e-09, -9.3132e-10,  0.0000e+00,\n",
       "        -2.3283e-09, -2.9104e-11, -2.3283e-10,  1.6298e-09, -1.3970e-09,\n",
       "        -5.2387e-10,  9.3132e-10, -9.3132e-10,  9.3132e-10, -5.8208e-11,\n",
       "        -5.8208e-10,  3.4925e-10, -5.8208e-10, -9.3132e-10, -1.8626e-09,\n",
       "        -2.7940e-09, -1.1059e-09,  0.0000e+00,  0.0000e+00, -1.3970e-09,\n",
       "         1.3970e-09,  4.6566e-10,  9.3132e-10,  1.1642e-09,  1.6298e-09,\n",
       "         5.8208e-11, -2.3283e-10, -1.9209e-09, -1.3970e-09,  1.6298e-09,\n",
       "         0.0000e+00,  7.5670e-10,  6.9849e-10, -1.8626e-09,  4.6566e-10,\n",
       "         0.0000e+00,  4.6566e-10,  4.6566e-10,  3.2596e-09,  4.6566e-10,\n",
       "         8.1491e-10, -1.1642e-10,  1.8626e-09,  9.3132e-10,  4.6566e-10,\n",
       "        -9.3132e-10, -1.3970e-09,  0.0000e+00,  1.3970e-09,  8.7311e-10,\n",
       "         4.6566e-10, -1.8626e-09, -4.6566e-10, -6.9849e-10,  0.0000e+00,\n",
       "        -8.1491e-10, -9.3132e-10,  2.3283e-09,  0.0000e+00, -2.3283e-09,\n",
       "        -9.3132e-10, -1.3970e-09,  2.0955e-09,  1.2806e-09,  1.8626e-09,\n",
       "         3.7253e-09,  9.3132e-10,  1.8626e-09,  6.9849e-10, -4.9185e-09,\n",
       "         9.3132e-10,  1.5280e-09, -4.6566e-10, -4.6566e-10,  1.1642e-09,\n",
       "         2.3283e-09,  2.5029e-09,  6.5193e-09,  1.0477e-09, -3.7253e-09,\n",
       "         1.8626e-09, -4.6566e-09, -3.0923e-10, -1.5134e-09,  6.9849e-10,\n",
       "        -9.3132e-10,  2.3283e-10, -2.3283e-09,  4.0745e-10, -6.9849e-10,\n",
       "         4.6566e-10,  4.6566e-10,  4.6566e-10,  4.8894e-09, -1.1642e-09,\n",
       "         6.5484e-10,  1.8626e-09,  0.0000e+00, -9.3132e-10,  0.0000e+00,\n",
       "         1.1642e-10,  2.7940e-09, -1.8626e-09, -9.3132e-10,  9.3132e-10,\n",
       "        -2.3283e-09,  2.3283e-10, -4.6566e-10,  9.3132e-10, -1.1642e-09,\n",
       "         1.8626e-09,  1.3970e-09, -1.0477e-09,  9.3132e-10,  0.0000e+00,\n",
       "         0.0000e+00,  0.0000e+00, -4.6566e-10, -1.6298e-09, -1.1059e-09,\n",
       "         9.3132e-10, -2.3283e-10,  1.8626e-09,  2.3283e-10,  1.6298e-09,\n",
       "         2.3283e-10, -1.1642e-10,  9.3132e-10,  1.8626e-09, -2.5611e-09,\n",
       "         9.3132e-10,  0.0000e+00,  0.0000e+00,  8.1491e-10, -4.6566e-09,\n",
       "        -8.1491e-10, -1.6298e-09,  9.3132e-10,  4.6566e-10,  9.3132e-10,\n",
       "        -1.8626e-09,  2.3283e-10,  1.3970e-09,  9.3132e-10, -5.8208e-11,\n",
       "         2.3283e-10,  3.4925e-10, -9.3132e-10,  0.0000e+00, -9.3132e-10,\n",
       "         0.0000e+00, -1.8626e-09,  4.6566e-10, -4.6566e-10,  2.3283e-10,\n",
       "         0.0000e+00,  1.3970e-09, -1.1642e-09,  1.8626e-09,  1.3970e-09,\n",
       "        -1.8626e-09, -9.3132e-10,  5.8208e-11,  2.3283e-10, -9.3132e-10,\n",
       "         1.6298e-09, -3.7253e-09, -5.8208e-11,  2.5611e-09,  8.7311e-10,\n",
       "         9.3132e-10,  0.0000e+00,  1.1933e-09,  9.3132e-10, -9.3132e-10,\n",
       "         2.7940e-09,  0.0000e+00, -6.9849e-10,  9.3132e-10,  3.0268e-09,\n",
       "         9.3132e-10,  2.3283e-10, -1.3970e-09, -1.8626e-09,  0.0000e+00,\n",
       "         9.3132e-10, -4.6566e-10, -3.2596e-09,  9.3132e-10, -9.3132e-10,\n",
       "        -2.3283e-09, -1.8626e-09,  4.6566e-10,  9.3132e-10,  9.3132e-10,\n",
       "        -1.1642e-10, -6.9849e-10, -1.8917e-10,  0.0000e+00,  0.0000e+00,\n",
       "         1.3970e-09, -6.9849e-10,  0.0000e+00,  0.0000e+00, -1.3970e-09,\n",
       "         9.3132e-10,  0.0000e+00,  4.6566e-10,  4.6566e-09, -1.5134e-09,\n",
       "         4.6566e-10,  4.6566e-10,  4.6566e-10, -6.9849e-10,  0.0000e+00,\n",
       "        -1.3970e-09, -9.3132e-10,  4.6566e-10,  1.8626e-09, -1.1642e-10])"
      ]
     },
     "execution_count": 13,
     "metadata": {},
     "output_type": "execute_result"
    }
   ],
   "source": [
    "b1.grad # ALL ZEROS!!"
   ]
  },
  {
   "cell_type": "markdown",
   "metadata": {},
   "source": [
    "KEY POINT: We dont need the bias in the pre activation layer because they are subtracted out in the batch norm! by subtracting the mean. We basically shift the dist by our bias and then subtract back by the mean (of the dist shifted by the bias) which will just shift it back to where it was before! So can remove the bias! The batch normalisation bias is now in charge of the biasing!"
   ]
  },
  {
   "cell_type": "markdown",
   "metadata": {},
   "source": []
  }
 ],
 "metadata": {
  "kernelspec": {
   "display_name": "emb-venv",
   "language": "python",
   "name": "python3"
  },
  "language_info": {
   "codemirror_mode": {
    "name": "ipython",
    "version": 3
   },
   "file_extension": ".py",
   "mimetype": "text/x-python",
   "name": "python",
   "nbconvert_exporter": "python",
   "pygments_lexer": "ipython3",
   "version": "3.12.6"
  }
 },
 "nbformat": 4,
 "nbformat_minor": 2
}
