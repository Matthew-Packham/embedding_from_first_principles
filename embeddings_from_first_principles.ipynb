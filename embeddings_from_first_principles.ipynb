{
 "cells": [
  {
   "cell_type": "code",
   "execution_count": 1,
   "metadata": {},
   "outputs": [],
   "source": [
    "import torch\n",
    "import torch.nn.functional as F"
   ]
  },
  {
   "cell_type": "markdown",
   "metadata": {},
   "source": [
    "### Adding Context\n",
    "\n",
    "Previously in bigrams we considered the probability of a character given the previous character (hence the bi in bigram). Now we'd like to add more context, Lets consider the probabilty of the next character given three previous characters."
   ]
  },
  {
   "cell_type": "code",
   "execution_count": 2,
   "metadata": {},
   "outputs": [
    {
     "data": {
      "text/plain": [
       "['emma', 'olivia', 'ava', 'isabella', 'sophia', 'charlotte', 'mia', 'amelia']"
      ]
     },
     "execution_count": 2,
     "metadata": {},
     "output_type": "execute_result"
    }
   ],
   "source": [
    "names = open(\"names.txt\", \"r\").read().splitlines()\n",
    "names[:8]"
   ]
  },
  {
   "cell_type": "code",
   "execution_count": 3,
   "metadata": {},
   "outputs": [
    {
     "data": {
      "text/plain": [
       "32033"
      ]
     },
     "execution_count": 3,
     "metadata": {},
     "output_type": "execute_result"
    }
   ],
   "source": [
    "len(names)"
   ]
  },
  {
   "cell_type": "code",
   "execution_count": 4,
   "metadata": {},
   "outputs": [],
   "source": [
    "### Build the vocab ###\n",
    "\n",
    "#find all characters in our dataset\n",
    "vocab = sorted(list(set(''.join(names))))\n",
    "vocab.insert(0, \".\")\n",
    "\n",
    "#create vocab mappings\n",
    "char_to_idx = {char: idx for idx, char in enumerate(vocab)}\n",
    "idx_to_char = {idx: char for idx, char in enumerate(vocab)}"
   ]
  },
  {
   "cell_type": "code",
   "execution_count": 5,
   "metadata": {},
   "outputs": [
    {
     "name": "stdout",
     "output_type": "stream",
     "text": [
      "emma\n",
      "... ---> e | [0, 0, 0] ---> 5\n",
      "..e ---> m | [0, 0, 5] ---> 13\n",
      ".em ---> m | [0, 5, 13] ---> 13\n",
      "emm ---> a | [5, 13, 13] ---> 1\n",
      "mma ---> . | [13, 13, 1] ---> 0\n",
      "\n",
      "olivia\n",
      "... ---> o | [0, 0, 0] ---> 15\n",
      "..o ---> l | [0, 0, 15] ---> 12\n",
      ".ol ---> i | [0, 15, 12] ---> 9\n",
      "oli ---> v | [15, 12, 9] ---> 22\n",
      "liv ---> i | [12, 9, 22] ---> 9\n",
      "ivi ---> a | [9, 22, 9] ---> 1\n",
      "via ---> . | [22, 9, 1] ---> 0\n",
      "\n",
      "ava\n",
      "... ---> a | [0, 0, 0] ---> 1\n",
      "..a ---> v | [0, 0, 1] ---> 22\n",
      ".av ---> a | [0, 1, 22] ---> 1\n",
      "ava ---> . | [1, 22, 1] ---> 0\n",
      "\n",
      "isabella\n",
      "... ---> i | [0, 0, 0] ---> 9\n",
      "..i ---> s | [0, 0, 9] ---> 19\n",
      ".is ---> a | [0, 9, 19] ---> 1\n",
      "isa ---> b | [9, 19, 1] ---> 2\n",
      "sab ---> e | [19, 1, 2] ---> 5\n",
      "abe ---> l | [1, 2, 5] ---> 12\n",
      "bel ---> l | [2, 5, 12] ---> 12\n",
      "ell ---> a | [5, 12, 12] ---> 1\n",
      "lla ---> . | [12, 12, 1] ---> 0\n",
      "\n",
      "sophia\n",
      "... ---> s | [0, 0, 0] ---> 19\n",
      "..s ---> o | [0, 0, 19] ---> 15\n",
      ".so ---> p | [0, 19, 15] ---> 16\n",
      "sop ---> h | [19, 15, 16] ---> 8\n",
      "oph ---> i | [15, 16, 8] ---> 9\n",
      "phi ---> a | [16, 8, 9] ---> 1\n",
      "hia ---> . | [8, 9, 1] ---> 0\n",
      "\n"
     ]
    }
   ],
   "source": [
    "context_len = 3\n",
    "X, Y = [], []\n",
    "\n",
    "for name in names[:5]:\n",
    "    #initalise context with \".\" characters (index 0)\n",
    "    context = [0] * context_len\n",
    "    \n",
    "    print(name)\n",
    "    for char in name + \".\": # add end character to the name\n",
    "        y = char_to_idx[char]\n",
    "        X.append(context)\n",
    "        Y.append(y)\n",
    "        print(f'{\"\".join(idx_to_char[idx] for idx in context)} ---> {idx_to_char[y]} | {context} ---> {y}')\n",
    "\n",
    "        #shift the context (like a rolling window)\n",
    "        context = context[1:] + [y]\n",
    "    \n",
    "    print(end='\\n')\n",
    "\n",
    "#store as tensors\n",
    "X = torch.tensor(X)\n",
    "Y = torch.tensor(Y)"
   ]
  },
  {
   "cell_type": "code",
   "execution_count": 6,
   "metadata": {},
   "outputs": [
    {
     "name": "stdout",
     "output_type": "stream",
     "text": [
      "torch.Size([32, 3]) with dtype: torch.int64\n",
      "torch.Size([32]) with dtype: torch.int64\n"
     ]
    }
   ],
   "source": [
    "print(f\"{X.shape} with dtype: {X.dtype}\")\n",
    "print(f\"{Y.shape} with dtype: {Y.dtype}\")"
   ]
  },
  {
   "cell_type": "code",
   "execution_count": 7,
   "metadata": {},
   "outputs": [],
   "source": [
    "# create our embedding \"table\". embedding dimension is 2. we embed each character into a two dimensional space\n",
    "C = torch.randn((27, 2))"
   ]
  },
  {
   "cell_type": "markdown",
   "metadata": {},
   "source": [
    "SIDE NOTE: we can think of this \"lookup\" in the embedding table in two ways.LookupError\n",
    " 1. using the indexes of the char in the vocab directly (index into the embedding table)\n",
    " 2. encode the indexes into one-hot encoding (thus multiply the embedding table by the encoded indexes ) "
   ]
  },
  {
   "cell_type": "code",
   "execution_count": 8,
   "metadata": {},
   "outputs": [
    {
     "name": "stdout",
     "output_type": "stream",
     "text": [
      "First way: \n",
      "X[0] = tensor([0, 0, 0]) gives y[0] = 5. Indexing into C[[0, 0, 0]] = \n",
      "tensor([[-0.2156, -0.2346],\n",
      "        [-0.2156, -0.2346],\n",
      "        [-0.2156, -0.2346]])\n"
     ]
    }
   ],
   "source": [
    "# 1st row is: ... ---> e | [0, 0, 0] ---> 5\n",
    "\n",
    "print(f\"First way: \\nX[0] = {X[0]} gives y[0] = {Y[0]}. Indexing into C[[0, 0, 0]] = \\n{C[X[0]]}\")"
   ]
  },
  {
   "cell_type": "code",
   "execution_count": 9,
   "metadata": {},
   "outputs": [
    {
     "data": {
      "text/plain": [
       "tensor([[-0.2156, -0.2346],\n",
       "        [-0.2156, -0.2346],\n",
       "        [-0.2156, -0.2346]])"
      ]
     },
     "execution_count": 9,
     "metadata": {},
     "output_type": "execute_result"
    }
   ],
   "source": [
    "# second way\n",
    "F.one_hot(X[0], num_classes=27).float() @ C"
   ]
  },
  {
   "cell_type": "code",
   "execution_count": 10,
   "metadata": {},
   "outputs": [
    {
     "data": {
      "text/plain": [
       "torch.Size([3, 2])"
      ]
     },
     "execution_count": 10,
     "metadata": {},
     "output_type": "execute_result"
    }
   ],
   "source": [
    "C[X[0]].shape\n",
    "# 3 context chars x 2 embedding dims"
   ]
  },
  {
   "cell_type": "code",
   "execution_count": 11,
   "metadata": {},
   "outputs": [
    {
     "data": {
      "text/plain": [
       "tensor([-0.2156, -0.2346, -0.2156, -0.2346, -0.2156, -0.2346])"
      ]
     },
     "execution_count": 11,
     "metadata": {},
     "output_type": "execute_result"
    }
   ],
   "source": [
    "C[X[0]].view((6,)) # reshape/view this tensor as a (6,) to feed as input into the 1st hidden layer"
   ]
  },
  {
   "cell_type": "code",
   "execution_count": 12,
   "metadata": {},
   "outputs": [
    {
     "data": {
      "text/plain": [
       "torch.Size([32, 6])"
      ]
     },
     "execution_count": 12,
     "metadata": {},
     "output_type": "execute_result"
    }
   ],
   "source": [
    "#-1 means pytorch will work out that dim based on the other dim (i.e. we want 6 columns, tell us how many rows we need)\n",
    "x1 = C[X].view(-1, 6) # C[X] (batch_shape, input_shape)=(32, 3, 2) where input_shape=(3, 2) [context_dim, emb_dim]\n",
    "\n",
    "x1.shape #x1 (batch_dim, 6) as we have asked pytorch to view it this way (Concatinate the context dim into one row)"
   ]
  },
  {
   "cell_type": "code",
   "execution_count": 13,
   "metadata": {},
   "outputs": [],
   "source": [
    "#hiddden layer with tanh activation\n",
    "w1 = torch.randn((6, 100)) #dim=(input_dim, num_of_neurons)\n",
    "b1 = torch.randn((100)) #dim=(num_of_neurons) each neuron has one bias\n",
    "h1 = torch.tanh(x1@w1 + b1) # CHECK BROADCASTING"
   ]
  },
  {
   "cell_type": "code",
   "execution_count": 14,
   "metadata": {},
   "outputs": [],
   "source": [
    "#BROADCASTING CHECK\n",
    "# x1@w1 = (32, 100) (batch_dim, input_shape)x(input_shape, num_of_neurons)=(batch_dim, num_of_neurons)\n",
    "#    b1 = (100) row vector of bias' one bias for each neuron!\n",
    "\n",
    "#Align to the right\n",
    "#         (32, 100)\n",
    "#         (  , 100)\n",
    "\n",
    "# broadcast b1. the right most matches GOOD. the left most will be matched to i.e. broadcasted to 32 dim\n",
    "# b1_bcast (32, 100) i.e. b1 row vector copied along the rows 32 times! EXACTLY WHAT WE WANT!\n"
   ]
  },
  {
   "cell_type": "code",
   "execution_count": 15,
   "metadata": {},
   "outputs": [
    {
     "data": {
      "text/plain": [
       "torch.Size([32, 100])"
      ]
     },
     "execution_count": 15,
     "metadata": {},
     "output_type": "execute_result"
    }
   ],
   "source": [
    "h1.shape # (batch_num, input_shape)x(input_shape, num_of_neurons) = (batch_shape, num_of_neurons)"
   ]
  },
  {
   "cell_type": "code",
   "execution_count": 16,
   "metadata": {},
   "outputs": [],
   "source": [
    "## Second and final hidden layer\n",
    "# GOAL: output a prob dist over our vocab where the highest prob will be the prediction for the next character (given our context window)\n",
    "\n",
    "w2 = torch.randn((100, 27)) #input:(batch_dim, input_shape)=(32, 100) we want output_dim (i.e. number of neurons) to be len(vocab)=27 \n",
    "b2 = torch.randn((27)) # each neuron has a bias\n",
    "\n",
    "logits = h1@w2 + b2 #Checked broadcasting earlier, b2 is a row vector, which we want copied for each example in our batch (down the batch dim i.e. the rows)"
   ]
  },
  {
   "cell_type": "code",
   "execution_count": 17,
   "metadata": {},
   "outputs": [
    {
     "data": {
      "text/plain": [
       "torch.Size([32, 27])"
      ]
     },
     "execution_count": 17,
     "metadata": {},
     "output_type": "execute_result"
    }
   ],
   "source": [
    "# softmax activation.\n",
    "# This converts the 27 dim row rector into a probability dist\n",
    "\n",
    "its = logits.exp()\n",
    "prob_dists = its / its.sum(1, keepdim=True) # sum over 1st dimension (len(vocab)) keepdim means we want column vector (each chara to be divided by the sum - copy across the 27 columns!)\n",
    "prob_dists.shape # (batch_dim, len(vocab))"
   ]
  },
  {
   "cell_type": "code",
   "execution_count": 18,
   "metadata": {},
   "outputs": [
    {
     "data": {
      "text/plain": [
       "tensor([5.7697e-07, 3.8883e-04, 2.1475e-06, 4.4329e-03, 5.7461e-04, 1.7994e-03,\n",
       "        1.5125e-08, 2.3358e-06, 2.9144e-07, 8.1526e-04, 4.4538e-01, 6.8901e-03,\n",
       "        1.6020e-08, 5.2149e-07, 7.8067e-07, 8.5488e-07, 1.1276e-06, 4.2102e-11,\n",
       "        1.9236e-08, 5.4346e-09, 1.9021e-12, 2.3462e-09, 1.7551e-03, 2.7089e-03,\n",
       "        8.2289e-04, 1.7647e-07, 1.6443e-02, 2.2900e-05, 6.2292e-06, 1.5962e-06,\n",
       "        1.1847e-05, 1.8842e-02])"
      ]
     },
     "execution_count": 18,
     "metadata": {},
     "output_type": "execute_result"
    }
   ],
   "source": [
    "# We end up with a prob dist over the vocab for each of our 32 examples\n",
    "# we can pick out the probabilty of the targets Y\n",
    "\n",
    "# recall Y is the index in our vocab for the next character, so our model should be assigning high prob to that index\n",
    "# i.e.  ... ---> e | [0, 0, 0] ---> 5 so the 5th index for the first example should have a high prob (after training)\n",
    "\n",
    "prob_of_targets = prob_dists[torch.arange(0, 32), Y] # Y represents the columns we wanyt to pick out, the index in the vocab. we have 32 examples.\n",
    "prob_of_targets"
   ]
  },
  {
   "cell_type": "markdown",
   "metadata": {},
   "source": [
    "so prob of picking 5th index in our vocab is 7.6933e-09. the higher these probabilties the better the model"
   ]
  },
  {
   "cell_type": "code",
   "execution_count": 19,
   "metadata": {},
   "outputs": [
    {
     "data": {
      "text/plain": [
       "tensor(12.0448)"
      ]
     },
     "execution_count": 19,
     "metadata": {},
     "output_type": "execute_result"
    }
   ],
   "source": [
    "## measure the loss (ve- average log likelihood)\n",
    "\n",
    "loss = -prob_of_targets.log().mean() \n",
    "loss"
   ]
  },
  {
   "cell_type": "markdown",
   "metadata": {},
   "source": [
    "Note: We use the mean log likelihood rather than the sum of the log likelihoods to ensure that batch size (N) is independent from the learning rate. In the mean we divide through by N, removing the infulence of batch size. If we took the sum, then the loss is influenced by the batch_size, which during gradient decent, where we mutliply through by a learning rate, will require different learning rates for different batch_sizes. (unless you data set splits perfectly into an equal number of batches - will cause a problem). Thus the mean is the way!  "
   ]
  },
  {
   "cell_type": "code",
   "execution_count": 20,
   "metadata": {},
   "outputs": [],
   "source": [
    "## Bring it all together\n",
    "\n",
    "## Parameters ##\n",
    "C = torch.randn((27, 2))\n",
    "\n",
    "w1 = torch.randn((6, 100)) \n",
    "b1 = torch.randn((100)) \n",
    "\n",
    "w2 = torch.randn((100, 27)) \n",
    "b2 = torch.randn((27)) \n",
    "\n",
    "parameters = [C, w1, b1, w2, b2]"
   ]
  },
  {
   "cell_type": "code",
   "execution_count": 21,
   "metadata": {},
   "outputs": [
    {
     "name": "stdout",
     "output_type": "stream",
     "text": [
      "We have 3481 elements\n"
     ]
    }
   ],
   "source": [
    "print(f\"We have {sum(p.nelement() for p in parameters)} elements\")"
   ]
  },
  {
   "cell_type": "code",
   "execution_count": 22,
   "metadata": {},
   "outputs": [],
   "source": [
    "## to run the backwards pass we need to set requires_grad().\n",
    "for p in parameters:\n",
    "    p.requires_grad = True"
   ]
  },
  {
   "cell_type": "code",
   "execution_count": 23,
   "metadata": {},
   "outputs": [
    {
     "data": {
      "text/plain": [
       "tensor(15.8072, grad_fn=<NllLossBackward0>)"
      ]
     },
     "execution_count": 23,
     "metadata": {},
     "output_type": "execute_result"
    }
   ],
   "source": [
    "## forward pass ##\n",
    "\n",
    "emb = C[X] # (32, 3, 2)\n",
    "#x1 =  #(32, 6)\n",
    "h1 = torch.tanh(emb.view(-1, 6) @ w1 + b1) #(32, 100)\n",
    "logits = h1 @ w2 + b2 #(32, 27)\n",
    "# its = logits.exp()\n",
    "# prob_dists = its / its.sum(1, keepdim=True)\n",
    "# prob_of_targets = prob_dists[torch.arange(0, 32), Y]\n",
    "# loss = -prob_of_targets.log().mean()\n",
    "loss = F.cross_entropy(logits, Y)\n",
    "loss"
   ]
  },
  {
   "cell_type": "code",
   "execution_count": 24,
   "metadata": {},
   "outputs": [
    {
     "data": {
      "text/plain": [
       "tensor(15.8072, grad_fn=<NllLossBackward0>)"
      ]
     },
     "execution_count": 24,
     "metadata": {},
     "output_type": "execute_result"
    }
   ],
   "source": [
    "F.cross_entropy(logits, Y)"
   ]
  },
  {
   "cell_type": "markdown",
   "metadata": {},
   "source": [
    "the cross entropy loss is the same as the negative log likelihood in the case where there is only one correct char.\n",
    "all other positions in the cross entopry loss will be zero. \n",
    "pytorch will regonise that you are sending in indexes (representing one correct char - rather than say three, and set y_trues all to zero, appart from the index)\n",
    "\n",
    "\n",
    "benifits of using cross entropy\n",
    "1. the intermedery steps are usually computed in a fused kernel and so are very effecient (no extra tensors are made, like in our imp)\n",
    "2. the backwards pass is more efficent since (through analytical mathematics we can derive the exact derivative) and so dont need to work the dervivate out for each of the intermediate steps - like we would if we did our implementation\n",
    "   (and example of this can be seen in tanh - we know the exact derivative (through analytical methods its (1-t**2))\n",
    "3. our previous method can not handle large logits (since exp(100) is inf - **This is called overflow**) to solve this, because of the normalisation, we can add/minus any arbitary number. take the number to be the max of the logits and minus. that way we get zero or negative numbers... problem solved (only possible due to normalisation)"
   ]
  },
  {
   "cell_type": "code",
   "execution_count": 26,
   "metadata": {},
   "outputs": [],
   "source": [
    "## backward pass ##\n",
    "for p in parameters:\n",
    "    p.grad = None\n",
    "loss.backward()"
   ]
  },
  {
   "cell_type": "code",
   "execution_count": 27,
   "metadata": {},
   "outputs": [],
   "source": [
    "## update the parameters ##\n",
    "for p in parameters:\n",
    "    p.data += -0.1 * p.grad"
   ]
  },
  {
   "cell_type": "code",
   "execution_count": 28,
   "metadata": {},
   "outputs": [
    {
     "data": {
      "text/plain": [
       "12.786554336547852"
      ]
     },
     "execution_count": 28,
     "metadata": {},
     "output_type": "execute_result"
    }
   ],
   "source": [
    "## run another forward pass having updated and see the loss decrease ##\n",
    "emb = C[X] # (32, 3, 2)\n",
    "#x1 =  #(32, 6)\n",
    "h1 = torch.tanh(emb.view(-1, 6) @ w1 + b1) #(32, 100)\n",
    "logits = h1 @ w2 + b2 #(32, 27)\n",
    "# its = logits.exp()\n",
    "# prob_dists = its / its.sum(1, keepdim=True)\n",
    "# prob_of_targets = prob_dists[torch.arange(0, 32), Y]\n",
    "# loss = -prob_of_targets.log().mean()\n",
    "loss = F.cross_entropy(logits, Y)\n",
    "loss.item()"
   ]
  },
  {
   "cell_type": "markdown",
   "metadata": {},
   "source": [
    "#### Bring it all together | 32 data Examples (from the 1st five words)"
   ]
  },
  {
   "cell_type": "code",
   "execution_count": 29,
   "metadata": {},
   "outputs": [],
   "source": [
    "for p in parameters:\n",
    "    p.requires_grad = True"
   ]
  },
  {
   "cell_type": "code",
   "execution_count": 30,
   "metadata": {},
   "outputs": [
    {
     "name": "stdout",
     "output_type": "stream",
     "text": [
      "Final Loss: 0.256\n"
     ]
    }
   ],
   "source": [
    "iterations = 1000\n",
    "for _ in range(iterations):\n",
    "    ## FORWARD PASS ##\n",
    "    emb = C[X] # (32, 3, 2)\n",
    "    h1 = torch.tanh(emb.view(-1, 6) @ w1 + b1) #(32, 6)x(6, 100) gives (32, 100)\n",
    "    logits = h1 @ w2 + b2 #(32, 27)\n",
    "    loss = F.cross_entropy(logits, Y) #softmax is applied internally\n",
    "    \n",
    "\n",
    "    ## BACKWARDS PASS ##\n",
    "    for p in parameters:\n",
    "        p.grad = None\n",
    "    loss.backward()\n",
    "\n",
    "    ## UPDATE ##\n",
    "    for p in parameters:\n",
    "        p.data += -0.1 * p.grad\n",
    "print(f\"Final Loss: {loss.item():.3f}\")"
   ]
  },
  {
   "cell_type": "markdown",
   "metadata": {},
   "source": [
    "Here we get a very low loss because we are overfitting. we have 32 examples but 3481 parameters. Notice though that we dont get exatly zero, well that because we have inputs that give multiple output values in our training set. so for exampl ... as an input gives e (for the first name emma), a (for the second name ava), and so on, we have multiple names that start with different letters."
   ]
  },
  {
   "cell_type": "markdown",
   "metadata": {},
   "source": [
    "#### Bring it all together | ALL data Examples"
   ]
  },
  {
   "cell_type": "code",
   "execution_count": 31,
   "metadata": {},
   "outputs": [],
   "source": [
    "context_len = 3\n",
    "X, Y = [], []\n",
    "\n",
    "for name in names:\n",
    "    #initalise context with \".\" characters (index 0)\n",
    "    context = [0] * context_len\n",
    "    \n",
    "    for char in name + \".\": # add end character to the name\n",
    "        y = char_to_idx[char]\n",
    "        X.append(context)\n",
    "        Y.append(y)\n",
    "\n",
    "        #shift the context (like a rolling window)\n",
    "        context = context[1:] + [y]\n",
    "\n",
    "#store as tensors\n",
    "X = torch.tensor(X)\n",
    "Y = torch.tensor(Y)"
   ]
  },
  {
   "cell_type": "code",
   "execution_count": 32,
   "metadata": {},
   "outputs": [
    {
     "name": "stdout",
     "output_type": "stream",
     "text": [
      "torch.Size([228146, 3]) with dtype: torch.int64\n",
      "torch.Size([228146]) with dtype: torch.int64\n"
     ]
    }
   ],
   "source": [
    "print(f\"{X.shape} with dtype: {X.dtype}\")\n",
    "print(f\"{Y.shape} with dtype: {Y.dtype}\")"
   ]
  },
  {
   "cell_type": "code",
   "execution_count": 33,
   "metadata": {},
   "outputs": [],
   "source": [
    "## Parameters ##\n",
    "C = torch.randn((27, 2))\n",
    "w1 = torch.randn((6, 100)) \n",
    "b1 = torch.randn((100)) \n",
    "w2 = torch.randn((100, 27)) \n",
    "b2 = torch.randn((27)) \n",
    "parameters = [C, w1, b1, w2, b2]\n",
    "\n",
    "for p in parameters:\n",
    "    p.requires_grad = True"
   ]
  },
  {
   "cell_type": "code",
   "execution_count": 34,
   "metadata": {},
   "outputs": [
    {
     "name": "stdout",
     "output_type": "stream",
     "text": [
      "Loss: 18.433\n",
      "Loss: 16.550\n",
      "Loss: 15.120\n",
      "Loss: 14.098\n",
      "Loss: 13.345\n",
      "Loss: 12.641\n",
      "Loss: 11.969\n",
      "Loss: 11.342\n",
      "Loss: 10.788\n",
      "Loss: 10.288\n",
      "Final Loss: 10.288\n"
     ]
    }
   ],
   "source": [
    "iterations = 10\n",
    "for _ in range(iterations):\n",
    "    ## FORWARD PASS ##\n",
    "    emb = C[X] # (228146, 3, 2)\n",
    "    h1 = torch.tanh(emb.view(-1, 6) @ w1 + b1) #(228146, 6)x(6, 100) gives (228146, 100)\n",
    "    logits = h1 @ w2 + b2 #(228146, 27)\n",
    "    loss = F.cross_entropy(logits, Y) #softmax is applied internally\n",
    "    print(f\"Loss: {loss.item():.3f}\")\n",
    "\n",
    "    ## BACKWARDS PASS ##\n",
    "    for p in parameters:\n",
    "        p.grad = None\n",
    "    loss.backward()\n",
    "\n",
    "    ## UPDATE ##\n",
    "    for p in parameters:\n",
    "        p.data += -0.1 * p.grad\n",
    "print(f\"Final Loss: {loss.item():.3f}\")"
   ]
  },
  {
   "cell_type": "markdown",
   "metadata": {},
   "source": [
    "Much Slower! because we are training over the whole dataset (228146 examples) in each iteration, which is too much work. Lets split into mini batches.\n",
    "\n",
    "It is better to move in the approximate gradient direction and take more steps than it is to get the exact gradient and take fewer steps!\n",
    "\n",
    "We approximate the true value of the gradient by calculating the gradient for our mini batch (its a batch not all of the data points hence why its an approximation!!)."
   ]
  },
  {
   "cell_type": "code",
   "execution_count": 35,
   "metadata": {},
   "outputs": [],
   "source": [
    "## Parameters ##\n",
    "C = torch.randn((27, 2))\n",
    "w1 = torch.randn((6, 100)) \n",
    "b1 = torch.randn((100)) \n",
    "w2 = torch.randn((100, 27)) \n",
    "b2 = torch.randn((27)) \n",
    "parameters = [C, w1, b1, w2, b2]\n",
    "\n",
    "for p in parameters:\n",
    "    p.requires_grad = True"
   ]
  },
  {
   "cell_type": "code",
   "execution_count": 36,
   "metadata": {},
   "outputs": [
    {
     "name": "stdout",
     "output_type": "stream",
     "text": [
      "Final Loss For that mini Batch final chosen mini-batch (the last one! [the hundreth one]) [ix]: 2.747\n"
     ]
    }
   ],
   "source": [
    "iterations = 1000\n",
    "mini_batch_size = 32\n",
    "\n",
    "for _ in range(iterations):\n",
    "\n",
    "    # construct mini batch (randomly select 32 examples with replacement)\n",
    "    # select 32 integers (which represent the indexes of our training set)\n",
    "    ix = torch.randint(0, X.shape[0], (mini_batch_size,))\n",
    "\n",
    "    ## FORWARD PASS ##\n",
    "    emb = C[X[ix]] # (32, 3, 2)\n",
    "    h1 = torch.tanh(emb.view(-1, 6) @ w1 + b1) #(32, 6)x(6, 100) gives (32, 100)\n",
    "    logits = h1 @ w2 + b2 #(32, 27)\n",
    "    loss = F.cross_entropy(logits, Y[ix]) #softmax is applied internally\n",
    "\n",
    "    ## BACKWARDS PASS ##\n",
    "    for p in parameters:\n",
    "        p.grad = None\n",
    "    loss.backward()\n",
    "\n",
    "    ## UPDATE ##\n",
    "    for p in parameters:\n",
    "        p.data += -0.1 * p.grad\n",
    "print(f\"Final Loss For that mini Batch final chosen mini-batch (the last one! [the hundreth one]) [ix]: {loss.item():.3f}\")"
   ]
  },
  {
   "cell_type": "code",
   "execution_count": 37,
   "metadata": {},
   "outputs": [
    {
     "name": "stdout",
     "output_type": "stream",
     "text": [
      "Model Loss (after iterating over mini batches) 2.653\n"
     ]
    }
   ],
   "source": [
    "# Run the forward pass on the whole data to get the full model loss\n",
    "\n",
    "## FORWARD PASS ##\n",
    "emb = C[X] # <-- evaluating all of X\n",
    "h1 = torch.tanh(emb.view(-1, 6) @ w1 + b1)\n",
    "logits = h1 @ w2 + b2\n",
    "loss = F.cross_entropy(logits, Y) #<-- All of Y\n",
    "print(f\"Model Loss (after iterating over mini batches) {loss.item():.3f}\")"
   ]
  },
  {
   "cell_type": "markdown",
   "metadata": {},
   "source": [
    "### A way to explore the learning rate in the Upgrade step"
   ]
  },
  {
   "cell_type": "code",
   "execution_count": 77,
   "metadata": {},
   "outputs": [
    {
     "name": "stdout",
     "output_type": "stream",
     "text": [
      "Final Loss For that mini Batch final chosen mini-batch (the last one! [the hundreth one]) [ix]: 7.674\n"
     ]
    }
   ],
   "source": [
    "## Parameters ##\n",
    "C = torch.randn((27, 2))\n",
    "w1 = torch.randn((6, 100)) \n",
    "b1 = torch.randn((100)) \n",
    "w2 = torch.randn((100, 27)) \n",
    "b2 = torch.randn((27)) \n",
    "parameters = [C, w1, b1, w2, b2]\n",
    "\n",
    "for p in parameters:\n",
    "    p.requires_grad = True\n",
    "\n",
    "iterations = 1000 \n",
    "mini_batch_size = 32\n",
    "\n",
    "## Construct Learning rates ##\n",
    "lr_linear =  torch.linspace(0.001, 1, iterations)\n",
    "lr_exp_trans = torch.linspace(-3, 0, iterations)\n",
    "lr_exp = 10**lr_exp_trans # -3 because 10**-3 = 0.001 and 0 because 10**0 = 1\n",
    "\n",
    "# keep track of the learning rates used; so we can plot\n",
    "lr_idx = []\n",
    "lr_loss = []\n",
    "\n",
    "\n",
    "for i in range(iterations):#reversed(range(iterations)):\n",
    "\n",
    "   \n",
    "    ix = torch.randint(0, X.shape[0], (mini_batch_size,))\n",
    "\n",
    "    ## FORWARD PASS ##\n",
    "    emb = C[X[ix]] # (32, 3, 2)\n",
    "    h1 = torch.tanh(emb.view(-1, 6) @ w1 + b1) #(32, 6)x(6, 100) gives (32, 100)\n",
    "    logits = h1 @ w2 + b2 #(32, 27)\n",
    "    loss = F.cross_entropy(logits, Y[ix]) #softmax is applied internally\n",
    "\n",
    "    ## BACKWARDS PASS ##\n",
    "    for p in parameters:\n",
    "        p.grad = None\n",
    "    loss.backward()\n",
    "\n",
    "    ## UPDATE ##\n",
    "    lr = lr_exp[i]\n",
    "    for p in parameters:\n",
    "        p.data += -lr * p.grad\n",
    "    \n",
    "    #track the learning rates and the loss\n",
    "    lr_idx.append(lr)\n",
    "    lr_loss.append(loss.item())\n",
    "print(f\"Final Loss For that mini Batch final chosen mini-batch (the last one! [the hundreth one]) [ix]: {loss.item():.3f}\")"
   ]
  },
  {
   "cell_type": "code",
   "execution_count": 78,
   "metadata": {},
   "outputs": [
    {
     "data": {
      "text/plain": [
       "Text(0.5, 1.0, 'Starts small and gets large | jumps are exponential (so loads for small values, few for large) | time dir -->')"
      ]
     },
     "execution_count": 78,
     "metadata": {},
     "output_type": "execute_result"
    },
    {
     "data": {
      "image/png": "[encoded data removed]",
      "text/plain": [
       "<Figure size 640x480 with 1 Axes>"
      ]
     },
     "metadata": {},
     "output_type": "display_data"
    }
   ],
   "source": [
    "import matplotlib.pyplot as plt\n",
    "\n",
    "plt.plot(lr_idx, lr_loss)\n",
    "plt.title(\"Starts small and gets large | jumps are exponential (so loads for small values, few for large) | time dir -->\")"
   ]
  },
  {
   "cell_type": "code",
   "execution_count": 79,
   "metadata": {},
   "outputs": [
    {
     "data": {
      "text/plain": [
       "Text(0.5, 1.0, 'here we label the x-axis with the linear space( i.e. equal appart)')"
      ]
     },
     "execution_count": 79,
     "metadata": {},
     "output_type": "execute_result"
    },
    {
     "data": {
      "image/png": "[encoded data removed]",
      "text/plain": [
       "<Figure size 640x480 with 1 Axes>"
      ]
     },
     "metadata": {},
     "output_type": "display_data"
    }
   ],
   "source": [
    "plt.plot(lr_exp_trans, lr_loss)\n",
    "plt.title(\"here we label the x-axis with the linear space( i.e. equal appart)\")"
   ]
  },
  {
   "cell_type": "code",
   "execution_count": 80,
   "metadata": {},
   "outputs": [
    {
     "name": "stdout",
     "output_type": "stream",
     "text": [
      "Final Loss For that mini Batch final chosen mini-batch (the last one! [the hundreth one]) [ix]: 2.139\n"
     ]
    }
   ],
   "source": [
    "## Lets reverse the order, so going from large steps to small steps:\n",
    "## Parameters ##\n",
    "C = torch.randn((27, 2))\n",
    "w1 = torch.randn((6, 100)) \n",
    "b1 = torch.randn((100)) \n",
    "w2 = torch.randn((100, 27)) \n",
    "b2 = torch.randn((27)) \n",
    "parameters = [C, w1, b1, w2, b2]\n",
    "\n",
    "for p in parameters:\n",
    "    p.requires_grad = True\n",
    "\n",
    "iterations = 1000 \n",
    "mini_batch_size = 32\n",
    "\n",
    "## Construct Learning rates ##\n",
    "lr_linear =  torch.linspace(0.001, 1, iterations)\n",
    "lr_exp_trans = torch.linspace(-3, 0, iterations)\n",
    "lr_exp = 10**lr_exp_trans # -3 because 10**-3 = 0.001 and 0 because 10**0 = 1\n",
    "\n",
    "# keep track of the learning rates used; so we can plot\n",
    "lr_idx = []\n",
    "lr_loss = []\n",
    "\n",
    "\n",
    "for i in reversed(range(iterations)):\n",
    "\n",
    "   \n",
    "    ix = torch.randint(0, X.shape[0], (mini_batch_size,))\n",
    "\n",
    "    ## FORWARD PASS ##\n",
    "    emb = C[X[ix]] # (32, 3, 2)\n",
    "    h1 = torch.tanh(emb.view(-1, 6) @ w1 + b1) #(32, 6)x(6, 100) gives (32, 100)\n",
    "    logits = h1 @ w2 + b2 #(32, 27)\n",
    "    loss = F.cross_entropy(logits, Y[ix]) #softmax is applied internally\n",
    "\n",
    "    ## BACKWARDS PASS ##\n",
    "    for p in parameters:\n",
    "        p.grad = None\n",
    "    loss.backward()\n",
    "\n",
    "    ## UPDATE ##\n",
    "    lr = lr_exp[i]\n",
    "    for p in parameters:\n",
    "        p.data += -lr * p.grad\n",
    "    \n",
    "    #track the learning rates and the loss\n",
    "    lr_idx.append(lr)\n",
    "    lr_loss.append(loss.item())\n",
    "print(f\"Final Loss For that mini Batch final chosen mini-batch (the last one! [the hundreth one]) [ix]: {loss.item():.3f}\")\n"
   ]
  },
  {
   "cell_type": "code",
   "execution_count": 81,
   "metadata": {},
   "outputs": [
    {
     "data": {
      "text/plain": [
       "Text(0.5, 1.0, 'Reversed so starts large and goes small <-- time dir')"
      ]
     },
     "execution_count": 81,
     "metadata": {},
     "output_type": "execute_result"
    },
    {
     "data": {
      "image/png": "[encoded data removed]",
      "text/plain": [
       "<Figure size 640x480 with 1 Axes>"
      ]
     },
     "metadata": {},
     "output_type": "display_data"
    }
   ],
   "source": [
    "plt.plot(lr_idx, lr_loss)\n",
    "plt.title(\"Reversed so starts large and goes small <-- time dir\")"
   ]
  },
  {
   "cell_type": "code",
   "execution_count": null,
   "metadata": {},
   "outputs": [],
   "source": [
    "# RMSprop takes larger steps when the gradient is small and small steps when there has been a consitently large history of large gradients.\n",
    "# here we are doing it on an iteration basis. the first iterations we assign a large learning rate, which gets smaller as the interations go on."
   ]
  },
  {
   "cell_type": "markdown",
   "metadata": {},
   "source": [
    "### Splitting data | Training, Validation and test\n",
    "\n",
    "* The training is for training the model (optimising the parameters). \n",
    "* The Validation is used for optimising the hyper parameters of the model (number of neurons, rate of regularization, size of embedding, etc ...)\n",
    "* The test set is used to validate the performance of the model"
   ]
  },
  {
   "cell_type": "code",
   "execution_count": 82,
   "metadata": {},
   "outputs": [],
   "source": [
    "def create_dataset(names, context_len=3):\n",
    "    \"\"\"Function to create a dataset out of a list of names given to it\n",
    "\n",
    "    Args:\n",
    "        names (list)\n",
    "        context_len (int, optional):Defaults to 3.\n",
    "\n",
    "    Returns:\n",
    "        tuple: X, Y\n",
    "    \"\"\"\n",
    "\n",
    "    X, Y = [], []\n",
    "    for name in names:\n",
    "        #initalise context with \".\" characters (index 0)\n",
    "        context = [0] * context_len\n",
    "        \n",
    "        for char in name + \".\": # add end character to the name\n",
    "            y = char_to_idx[char]\n",
    "            X.append(context)\n",
    "            Y.append(y)\n",
    "        \n",
    "            #shift the context (like a rolling window)\n",
    "            context = context[1:] + [y]\n",
    "\n",
    "    #store as tensors\n",
    "    X = torch.tensor(X)\n",
    "    Y = torch.tensor(Y)\n",
    "\n",
    "    return X, Y"
   ]
  },
  {
   "cell_type": "code",
   "execution_count": 84,
   "metadata": {},
   "outputs": [],
   "source": [
    "## Split simply by indexing\n",
    "import random\n",
    "random.shuffle(names)\n",
    "train_split = int(0.8*len(names))\n",
    "val_split = int(0.9*len(names))\n",
    "X_train, Y_train = create_dataset(names[:train_split])\n",
    "X_val, Y_val = create_dataset(names[train_split:val_split])\n",
    "X_test, Y_test = create_dataset(names[val_split:])"
   ]
  },
  {
   "cell_type": "code",
   "execution_count": 88,
   "metadata": {},
   "outputs": [
    {
     "name": "stdout",
     "output_type": "stream",
     "text": [
      "torch.Size([182661, 3]) torch.Size([182661])\n",
      "torch.Size([22698, 3]) torch.Size([22698])\n",
      "torch.Size([22787, 3]) torch.Size([22787])\n"
     ]
    }
   ],
   "source": [
    "print(X_train.shape, Y_train.shape)\n",
    "print(X_val.shape, Y_val.shape)\n",
    "print(X_test.shape, Y_test.shape)"
   ]
  },
  {
   "cell_type": "markdown",
   "metadata": {},
   "source": [
    "We can now train over the training data set and see the evalutaion on the validaton, for different configurations for the network.\n",
    "We find that increaseing the Linear layer (with the tanh activation) doesnt improve the network that much and we believe this is because of the embedding dim being too small (currently two dim). before I increase the embedding dimension lets visualuse it to see if the network learns any cimalrities between characters"
   ]
  },
  {
   "cell_type": "code",
   "execution_count": 93,
   "metadata": {},
   "outputs": [
    {
     "name": "stdout",
     "output_type": "stream",
     "text": [
      "Current Loss: 16.421\n",
      "Current Loss: 2.170\n",
      "Current Loss: 2.504\n",
      "Current Loss: 2.185\n",
      "Current Loss: 2.459\n"
     ]
    }
   ],
   "source": [
    "### Train network ###\n",
    "\n",
    "\n",
    "## Lets reverse the order, so going from large steps to small steps:\n",
    "## Parameters ##\n",
    "C = torch.randn((27, 2))\n",
    "w1 = torch.randn((6, 100)) \n",
    "b1 = torch.randn((100)) \n",
    "w2 = torch.randn((100, 27)) \n",
    "b2 = torch.randn((27)) \n",
    "parameters = [C, w1, b1, w2, b2]\n",
    "\n",
    "for p in parameters:\n",
    "    p.requires_grad = True\n",
    "\n",
    "iterations = 50_000 \n",
    "mini_batch_size = 32\n",
    "\n",
    "\n",
    "for i in range(iterations):\n",
    "\n",
    "   \n",
    "    ix = torch.randint(0, X_train.shape[0], (mini_batch_size,))\n",
    "\n",
    "    ## FORWARD PASS ##\n",
    "    emb = C[X_train[ix]] # (32, 3, 2)\n",
    "    h1 = torch.tanh(emb.view(-1, 6) @ w1 + b1) #(32, 6)x(6, 100) gives (32, 100)\n",
    "    logits = h1 @ w2 + b2 #(32, 27)\n",
    "    loss = F.cross_entropy(logits, Y_train[ix]) #softmax is applied internally\n",
    "\n",
    "    ## BACKWARDS PASS ##\n",
    "    for p in parameters:\n",
    "        p.grad = None\n",
    "    loss.backward()\n",
    "\n",
    "    ## UPDATE ##\n",
    "    lr = 0.1 if i < 30_000 else 0.01 # At 30_000 iterations we shift the learing rate\n",
    "    for p in parameters:\n",
    "        p.data += -lr * p.grad\n",
    "    if i % 10_000 == 0:\n",
    "        print(f\"Current Loss: {loss.item():.3f}\")"
   ]
  },
  {
   "cell_type": "code",
   "execution_count": 94,
   "metadata": {},
   "outputs": [
    {
     "name": "stdout",
     "output_type": "stream",
     "text": [
      "training loss: 2.325\n"
     ]
    }
   ],
   "source": [
    "## Run Forward pss on training set to get training loss\n",
    "\n",
    "emb = C[X_train]\n",
    "h1 = torch.tanh(emb.view(-1, 6) @ w1 + b1)\n",
    "logits = h1 @ w2 + b2 \n",
    "loss = F.cross_entropy(logits, Y_train)\n",
    "print(f\"training loss: {loss.item():.3f}\")"
   ]
  },
  {
   "cell_type": "code",
   "execution_count": 95,
   "metadata": {},
   "outputs": [
    {
     "name": "stdout",
     "output_type": "stream",
     "text": [
      "Validation loss: 2.333\n"
     ]
    }
   ],
   "source": [
    "## Run forward pass on validation data to get validation loss\n",
    "emb = C[X_val]\n",
    "h1 = torch.tanh(emb.view(-1, 6) @ w1 + b1)\n",
    "logits = h1 @ w2 + b2 \n",
    "loss = F.cross_entropy(logits, Y_val)\n",
    "print(f\"Validation loss: {loss.item():.3f}\")"
   ]
  },
  {
   "cell_type": "markdown",
   "metadata": {},
   "source": [
    "Notice they are the roughly the same. This suggested there is still room for imrpovement. But before that lets visualise the embedding matrix"
   ]
  },
  {
   "cell_type": "code",
   "execution_count": 115,
   "metadata": {},
   "outputs": [
    {
     "data": {
      "image/png": "[encoded data removed]",
      "text/plain": [
       "<Figure size 600x600 with 1 Axes>"
      ]
     },
     "metadata": {},
     "output_type": "display_data"
    }
   ],
   "source": [
    "plt.figure(figsize=(6,6))\n",
    "#plot the dims of the embedding matrix\n",
    "plt.scatter(C[:, 0].data, C[:, 1].data, s=100)\n",
    "\n",
    "#iterate through and on the dot place the letter\n",
    "for i in range(C.shape[0]):\n",
    "    plt.text(C[i, 0].item(), C[i, 1].item(), s=idx_to_char[i], ha=\"center\", va=\"center\", color=\"white\")"
   ]
  },
  {
   "cell_type": "markdown",
   "metadata": {},
   "source": [
    "Intrestingly, the vowels are clustered together! The model assigns similarlity to these, meaning theyre interchangeable in a sense!\n",
    "There are the main cluster of letters in the center. \n",
    "there are q, ., y that are far away from the main cluster indicating that these are exceptional characters. Fasinating!!"
   ]
  },
  {
   "cell_type": "markdown",
   "metadata": {},
   "source": [
    "Now lets play around with the hyper paramters to try and get a best model. here we are doiung this in a trail and error, unstructured way, but we'll learn about best practices soon. Lets just play for now!\n",
    "\n",
    "Hyperparameters:\n",
    "* Number of neurons in the linear layer\n",
    "* batch_size\n",
    "* number of dimensions in our embeddings\n",
    "* learning rate"
   ]
  },
  {
   "cell_type": "code",
   "execution_count": null,
   "metadata": {},
   "outputs": [],
   "source": []
  }
 ],
 "metadata": {
  "kernelspec": {
   "display_name": "emb-venv",
   "language": "python",
   "name": "python3"
  },
  "language_info": {
   "codemirror_mode": {
    "name": "ipython",
    "version": 3
   },
   "file_extension": ".py",
   "mimetype": "text/x-python",
   "name": "python",
   "nbconvert_exporter": "python",
   "pygments_lexer": "ipython3",
   "version": "3.12.6"
  }
 },
 "nbformat": 4,
 "nbformat_minor": 2
}
